{
 "cells": [
  {
   "cell_type": "code",
   "execution_count": null,
   "id": "384820a0",
   "metadata": {},
   "outputs": [],
   "source": [
    "base_model.trainable = True\n",
    "# Csak az utolsó 30 réteg legyen tanítható\n",
    "for layer in base_model.layers[:-30]:\n",
    "    layer.trainable = False"
   ]
  }
 ],
 "metadata": {
  "kernelspec": {
   "display_name": "tf_env",
   "language": "python",
   "name": "python3"
  },
  "language_info": {
   "name": "python",
   "version": "3.9.21"
  }
 },
 "nbformat": 4,
 "nbformat_minor": 5
}
