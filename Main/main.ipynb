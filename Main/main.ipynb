{
 "cells": [
  {
   "cell_type": "code",
   "execution_count": 1,
   "id": "59ae6583-e912-4190-a958-76c456e76b8d",
   "metadata": {},
   "outputs": [
    {
     "name": "stdout",
     "output_type": "stream",
     "text": [
      "Using device: GPU\n"
     ]
    }
   ],
   "source": [
    "import random\n",
    "\n",
    "import tqdm\n",
    "import pathlib\n",
    "import itertools\n",
    "import collections\n",
    "\n",
    "import os\n",
    "import cv2\n",
    "import numpy as np\n",
    "import pandas as pd\n",
    "import glob\n",
    "\n",
    "import tensorflow as tf\n",
    "from tensorflow_docs.vis import embed\n",
    "from tensorflow.keras.utils import to_categorical, image_dataset_from_directory\n",
    "from tensorflow.keras import layers, models\n",
    "from tensorflow.keras.applications import MobileNetV2\n",
    "from tensorflow.keras.applications.mobilenet_v2 import preprocess_input\n",
    "\n",
    "import imageio\n",
    "\n",
    "import tkinter as tk\n",
    "from tkinter import ttk, messagebox\n",
    "from PIL import Image, ImageTk\n",
    "\n",
    "from IPython import display\n",
    "from urllib import request\n",
    "\n",
    "import matplotlib.pyplot as plt\n",
    "from sklearn.metrics import r2_score, mean_squared_error, mean_absolute_error, make_scorer, mean_squared_log_error, \\\n",
    "    root_mean_squared_error\n",
    "\n",
    "device = \"GPU\" if tf.config.list_physical_devices('GPU') else \"CPU\"\n",
    "print(f\"Using device: {device}\")"
   ]
  },
  {
   "cell_type": "code",
   "execution_count": 2,
   "id": "798768db",
   "metadata": {},
   "outputs": [],
   "source": [
    "SEED = 476\n",
    "random.seed(SEED)\n",
    "np.random.seed(SEED)\n",
    "tf.random.set_seed(SEED)"
   ]
  },
  {
   "cell_type": "code",
   "execution_count": 3,
   "id": "5dfb43d9",
   "metadata": {},
   "outputs": [],
   "source": [
    "# Data parameters\n",
    "IMG_SIZE = 224  # MobileNetV2 alapértelmezett mérete\n",
    "\n",
    "NUM_CLASSES = len(os.listdir(\"../ExtractedFrames\"))  # Pl. len(os.listdir(\"../ExtractedFrames\"))\n",
    "\n",
    "# Model Hyperparameters\n",
    "\n",
    "batch_size = 8\n",
    "epochs = 10\n",
    "learning_rate = 5.5e-4\n",
    "criterion = tf.keras.losses.MeanSquaredError()\n",
    "# criterion = tf.keras.losses.MeanAbsoluteError()\n",
    "\n",
    "optimizer = tf.keras.optimizers.Adam(learning_rate=learning_rate, epsilon=1e-5)\n",
    "\n",
    "activation_func = 'relu'\n"
   ]
  },
  {
   "cell_type": "code",
   "execution_count": 4,
   "id": "34874ca5",
   "metadata": {},
   "outputs": [],
   "source": [
    "def scheduler(epoch, lr):\n",
    "    if epoch < 550:\n",
    "        return lr\n",
    "    else:\n",
    "        return lr * np.exp(-0.1)"
   ]
  },
  {
   "cell_type": "code",
   "execution_count": 6,
   "id": "a9088c34",
   "metadata": {},
   "outputs": [
    {
     "data": {
      "text/plain": [
       "71"
      ]
     },
     "execution_count": 6,
     "metadata": {},
     "output_type": "execute_result"
    }
   ],
   "source": [
    "VIDEO_DIR = \"../Videos\"\n",
    "CSV_DIR = \"../Annotations\"\n",
    "TIMESTEP = 0.5\n",
    "\n",
    "# Annotationben a táblák nevei\n",
    "class_names = [\"timestamp\", \"20\",\"30\",\"50\",\"60\",\"70\",\"80\",\n",
    "               \"sebKorlatVege\",\"100\",\"120\",\"elozniTilos\",\n",
    "               \"teherautovalElozniTilos\",\"keresztezodesAlarendeltUttal\",\n",
    "               \"foutvonal\",\"elsobbsegadas\",\"stop\",\"mind2BehajtaniTilos\",\n",
    "               \"teherautovalBehajtaniTilos\",\"behajtaniTilos\",\n",
    "               \"veszely\",\"veszelyesKanyarBal\",\"veszelyesKanyarJobb\",\n",
    "               \"veszelyesKanyarok\",\"egyenetlenUttsest\",\"csuszos\",\"utszukuletJobbrol\",\n",
    "               \"munka\",\"fenyjelzoKeszulek\",\"gyalogosAtkeles\",\"gyerekek\",\n",
    "               \"kerekparosok\",\"?\",\"vadVeszely\",\"korlatozasVege\",\n",
    "               \"kotelezoHaladasiIranyJobbra\",\"kotelezoHaladasiIranyBalra\",\n",
    "               \"kotelezoHaladasiIrany\",\"kotelezoHaladasiIranyJobbraEgyenesen\",\n",
    "               \"kotelezoHaladasiIranyBalraEgyenesen\",\"kerulesiIranyJobbra\",\n",
    "               \"kerulesiIranyBalra\",\"korforgalom\",\"elozniTilosVege\",\n",
    "               \"teherautovalElozniTilosVege\",\"40\",\"autopalya\",\"autopalyaVege\",\n",
    "               \"autout\",\"autoutVege\",\"buszmegallo\",\"egyiranyu\",\"foutVege\",\n",
    "               \"gyalogosAtkelo\",\"korforgalomPiros\",\"parkolo\",\n",
    "               \"szembejovoForgalomnakElsobbseg\",\"szembejovoForgalommalSzembenElsobbseg\",\n",
    "               \"utszukulet\",\"utszukuletBalrol\",\"veszelyesKanyarok2\",\"zsakutca\",\n",
    "               \"gyalogosok\",\"varakozniTilos\",\"megallniTilos\",\"jobbraKanyarodniTilos\",\n",
    "               \"balraKanyarodniTilos\",\"behajtaniTilosMegjeloltDolgokkal\",\n",
    "               \"behajtaniTilosKerekparral\",\"kerulesiIranyBalVagyJobb\",\n",
    "               \"behajtaniTilosSulykorlat\",\"bukkano\"]\n",
    "\n",
    "len(class_names)"
   ]
  },
  {
   "cell_type": "code",
   "execution_count": 7,
   "id": "618fb4ba",
   "metadata": {},
   "outputs": [],
   "source": [
    "# Load videos \n",
    "dataset = []\n",
    "video_filenames = []\n",
    "\n",
    "for fn in glob.glob(\"../Videos/*\"):\n",
    "    video_filenames.append(fn)"
   ]
  },
  {
   "cell_type": "code",
   "execution_count": 6,
   "id": "093955cd",
   "metadata": {},
   "outputs": [],
   "source": [
    "#for filename in video_filenames:\n",
    "#    with open(f\"../Annotations/{filename[10:-4]}.csv\", \"w\") as f:\n",
    "#        pass\n"
   ]
  },
  {
   "cell_type": "code",
   "execution_count": 7,
   "id": "fd8b38fc",
   "metadata": {},
   "outputs": [],
   "source": [
    "\n",
    "# Videókhoz csv fájl rendelése\n",
    "video_filenames = glob.glob(\"../Videos/*.mp4\")\n",
    "\n",
    "for filename in video_filenames:\n",
    "    base = os.path.basename(filename)\n",
    "    name = base[:-4]  # pl. 0001\n",
    "    csv_path = f\"../Annotations/{name}.csv\"\n",
    "    \n",
    "    # Ha már létezik egy oszlop, azt ne írja felül\n",
    "    if os.path.exists(csv_path):\n",
    "        df_existing = pd.read_csv(csv_path)\n",
    "        for col in class_names:\n",
    "            if col not in df_existing.columns:\n",
    "                df_existing[col] = 0\n",
    "        df_existing.to_csv(csv_path, index=False)\n",
    "    # Új oszlopot adunk hozzá\n",
    "    else:\n",
    "        df = pd.DataFrame(\n",
    "            data=np.zeros((1000, len(class_names)), dtype=int),\n",
    "            columns=class_names)\n",
    "        df[\"timestamp\"] = [x/2 for x in range(0, 1000)]\n",
    "        df.to_csv(csv_path, index=False)\n"
   ]
  },
  {
   "cell_type": "code",
   "execution_count": 9,
   "id": "7f2bf021",
   "metadata": {},
   "outputs": [
    {
     "data": {
      "text/plain": [
       "'df = pd.DataFrame(\\n    data=np.zeros((1000, len(class_names)), dtype=int),\\n    columns=class_names)\\ndf[\"timestamp\"] = [x/2 for x in range(0, 1000, 1)] # TODO: set to video max frame count * x\\n\\ndf\\n\\n#for filename in video_filenames:    \\n#    with open(f\"../Annotations/{filename[10:-4]}.csv\", \"w\") as f:\\n#        df.to_csv(f, index=False)\\n'"
      ]
     },
     "execution_count": 9,
     "metadata": {},
     "output_type": "execute_result"
    }
   ],
   "source": [
    "\n",
    "\"\"\"df = pd.DataFrame(\n",
    "    data=np.zeros((1000, len(class_names)), dtype=int),\n",
    "    columns=class_names)\n",
    "df[\"timestamp\"] = [x/2 for x in range(0, 1000, 1)] # TODO: set to video max frame count * x\n",
    "\n",
    "df\n",
    "\n",
    "#for filename in video_filenames:    \n",
    "#    with open(f\"../Annotations/{filename[10:-4]}.csv\", \"w\") as f:\n",
    "#        df.to_csv(f, index=False)\n",
    "\"\"\"\n"
   ]
  },
  {
   "cell_type": "code",
   "execution_count": 10,
   "id": "e6ae1eb8",
   "metadata": {},
   "outputs": [
    {
     "data": {
      "text/plain": [
       "'for filename in video_filenames:\\n    src = cv2.VideoCapture(str(filename))  \\n    print(\"FPS per video:\", src.get(cv2.CAP_PROP_FPS ))\\n    print(\"Frame per video:\",src.get(cv2.CAP_PROP_FRAME_COUNT))\\n    print(\"bitrate:\",src.get(cv2.CAP_PROP_BITRATE)) \\n'"
      ]
     },
     "execution_count": 10,
     "metadata": {},
     "output_type": "execute_result"
    }
   ],
   "source": [
    "\n",
    "\"\"\"for filename in video_filenames:\n",
    "    src = cv2.VideoCapture(str(filename))  \n",
    "    print(\"FPS per video:\", src.get(cv2.CAP_PROP_FPS ))\n",
    "    print(\"Frame per video:\",src.get(cv2.CAP_PROP_FRAME_COUNT))\n",
    "    print(\"bitrate:\",src.get(cv2.CAP_PROP_BITRATE)) \n",
    "\"\"\""
   ]
  },
  {
   "cell_type": "code",
   "execution_count": 11,
   "id": "37cbb961",
   "metadata": {},
   "outputs": [],
   "source": [
    "# def format_frames(frame, output_size):\n",
    "\n",
    "    # Pad and resize an image from a video.\n",
    "\n",
    "    # Args:\n",
    "    # frame: Image that needs to resized and padded. \n",
    "    #  output_size: Pixel size of the output frame image.\n",
    "\n",
    "   # Return:\n",
    "  #    Formatted frame with padding of specified output size.\n",
    " # \"\"\"\n",
    " # frame = tf.image.convert_image_dtype(frame, tf.float32)\n",
    "  #frame = tf.image.resize_with_pad(frame, *output_size)\n",
    "  #return frame"
   ]
  },
  {
   "cell_type": "markdown",
   "id": "a7d44495",
   "metadata": {},
   "source": [
    "def frames_from_video_file(video_path, n_frames=None, output_size = (224,224), frame_step = 15):\n",
    "  \"\"\"\n",
    "    Creates frames from each video file present for each category.\n",
    "\n",
    "    Args:\n",
    "      video_path: File path to the video.\n",
    "      n_frames: Number of frames to be created per video file.\n",
    "      output_size: Pixel size of the output frame image.\n",
    "\n",
    "    Return:\n",
    "      An NumPy array of frames in the shape of (n_frames, height, width, channels).\n",
    "  \"\"\"\n",
    "  result = []\n",
    "  src = cv2.VideoCapture(str(video_path))  \n",
    "  \n",
    "  video_length = src.get(cv2.CAP_PROP_FRAME_COUNT)\n",
    "  \n",
    "  if not n_frames:\n",
    "    n_frames = 1 + (video_length - 1) // frame_step\n",
    "\n",
    "  need_length = 1 + (n_frames - 1) * frame_step\n",
    "\n",
    "  # if need_length > video_length:\n",
    "  #   start = 0\n",
    "  # else:\n",
    "  #   max_start = video_length - need_length\n",
    "  #   start = random.randint(0, max_start + 1)\n",
    "  \n",
    "  start = 0\n",
    "\n",
    "  src.set(cv2.CAP_PROP_POS_FRAMES, start)\n",
    "  \n",
    "  # ret is a boolean indicating whether read was successful, frame is the image itself\n",
    "  ret, frame = src.read()\n",
    "  result.append(format_frames(frame, output_size))\n",
    "\n",
    "  for _ in range(n_frames - 1):\n",
    "    for _ in range(frame_step):\n",
    "      ret, frame = src.read()\n",
    "    # ret, frame = src.read()\n",
    "    if ret:\n",
    "      frame = format_frames(frame, output_size)\n",
    "      result.append(frame)\n",
    "    else:\n",
    "      result.append(np.zeros_like(result[0]))\n",
    "      \n",
    "  src.release()\n",
    "  \n",
    "  result = np.array(result)[..., [2, 1, 0]]\n",
    "\n",
    "  return result"
   ]
  },
  {
   "cell_type": "code",
   "execution_count": 12,
   "id": "6318eeff",
   "metadata": {},
   "outputs": [],
   "source": [
    "#sample_video = frames_from_video_file(video_filenames[5], n_frames = 100)\n",
    "#sample_video.shape"
   ]
  },
  {
   "cell_type": "code",
   "execution_count": 13,
   "id": "c33bb306",
   "metadata": {},
   "outputs": [
    {
     "data": {
      "text/plain": [
       "\"def to_gif(images):\\n  converted_images = np.clip(images * 255, 0, 255).astype(np.uint8)\\n  imageio.mimsave('./animation.gif', converted_images, fps=10)\\n  return embed.embed_file('./animation.gif')\\n\""
      ]
     },
     "execution_count": 13,
     "metadata": {},
     "output_type": "execute_result"
    }
   ],
   "source": [
    "\"\"\"def to_gif(images):\n",
    "  converted_images = np.clip(images * 255, 0, 255).astype(np.uint8)\n",
    "  imageio.mimsave('./animation.gif', converted_images, fps=10)\n",
    "  return embed.embed_file('./animation.gif')\n",
    "\"\"\""
   ]
  },
  {
   "cell_type": "code",
   "execution_count": 14,
   "id": "11553cb7",
   "metadata": {},
   "outputs": [],
   "source": [
    "#to_gif(sample_video)"
   ]
  },
  {
   "cell_type": "markdown",
   "id": "fcf53841",
   "metadata": {},
   "source": [
    "class FrameGenerator:\n",
    "  def __init__(self, training = False):\n",
    "    \"\"\" Returns a set of frames with their associated label. \n",
    "\n",
    "      Args:\n",
    "        path: Video file paths.\n",
    "        n_frames: Number of frames. \n",
    "        training: Boolean to determine if training dataset is being created.\n",
    "    \"\"\"\n",
    "    self.training = training\n",
    "    \n",
    "    self.class_names = sorted(set(p.name for p in video_filenames.iterdir() if p.is_dir()))\n",
    "    self.class_ids_for_name = dict((name, idx) for idx, name in enumerate(self.class_names))\n",
    "\n",
    "  def __call__(self):\n",
    "\n",
    "    if self.training:\n",
    "      random.shuffle()\n",
    "\n",
    "    for path, name in pairs:\n",
    "      video_frames = frames_from_video_file(path) \n",
    "      label = self.class_ids_for_name[name] # Encode labels\n",
    "      yield video_frames, label"
   ]
  },
  {
   "cell_type": "code",
   "execution_count": null,
   "id": "7af6bdbb",
   "metadata": {},
   "outputs": [],
   "source": [
    "# Annotator\n",
    "\n",
    "class VideoAnnotator:\n",
    "    def __init__(self, root):\n",
    "        self.root = root\n",
    "        self.root.title(\"Közlekedési tábla annotáló\")\n",
    "\n",
    "        self.video_files = sorted(f for f in os.listdir(VIDEO_DIR) if f.endswith(\".mp4\"))\n",
    "        self.current_index = 242\n",
    "    \n",
    "\n",
    "        self.canvas = tk.Canvas(root, width=1280, height=720)\n",
    "        self.canvas.grid(row=0, column=0, columnspan=3)\n",
    "\n",
    "        self.var_dict = {name: tk.IntVar() for name in class_names}\n",
    "        self.check_frame = tk.Frame(root)\n",
    "        self.check_frame.grid(row=1, column=0, columnspan=3)\n",
    "\n",
    "        for i, name in enumerate(class_names):\n",
    "            cb = tk.Checkbutton(self.check_frame, text=name, variable=self.var_dict[name])\n",
    "            cb.grid(row=i//10, column=i%10, sticky='w')\n",
    "\n",
    "        self.time_label = tk.Label(root, text=\"Idő: 0.0s\")\n",
    "        self.time_label.grid(row=2, column=0)\n",
    "\n",
    "        self.prev_btn = tk.Button(root, text=\"<< Vissza\", command=self.prev_frame)\n",
    "        self.prev_btn.grid(row=2, column=1)\n",
    "\n",
    "        self.next_btn = tk.Button(root, text=\">> Előre\", command=self.next_frame)\n",
    "        self.next_btn.grid(row=2, column=2)\n",
    "\n",
    "        self.root.protocol(\"WM_DELETE_WINDOW\", self.on_closing)\n",
    "\n",
    "        self.load_video()\n",
    "\n",
    "    def load_video(self):\n",
    "        video_file = self.video_files[self.current_index]\n",
    "        self.cap = cv2.VideoCapture(os.path.join(VIDEO_DIR, video_file))\n",
    "        self.fps = self.cap.get(cv2.CAP_PROP_FPS)\n",
    "\n",
    "        csv_path = os.path.join(CSV_DIR, video_file.replace(\".mp4\", \".csv\"))\n",
    "        self.df = pd.read_csv(csv_path)\n",
    "\n",
    "        self.frame_index = 0\n",
    "        self.update_frame()\n",
    "\n",
    "    def update_frame(self):\n",
    "        timestamp = self.df.iloc[self.frame_index]['timestamp']\n",
    "        self.time_label.config(text=f\"Idő: {timestamp:.1f}s\")\n",
    "        frame_number = int(timestamp * self.fps)\n",
    "        self.cap.set(cv2.CAP_PROP_POS_FRAMES, frame_number)\n",
    "        ret, frame = self.cap.read()\n",
    "        if ret:\n",
    "            frame = cv2.resize(frame, (1280, 720))\n",
    "            img = Image.fromarray(cv2.cvtColor(frame, cv2.COLOR_BGR2RGB))\n",
    "            imgtk = ImageTk.PhotoImage(image=img)\n",
    "            self.canvas.imgtk = imgtk\n",
    "            self.canvas.create_image(0, 0, anchor='nw', image=imgtk)\n",
    "\n",
    "        for name in class_names:\n",
    "            self.var_dict[name].set(int(self.df.iloc[self.frame_index].get(name, 0)))\n",
    "\n",
    "    def save_frame(self):\n",
    "        for name in class_names:\n",
    "            self.df.at[self.frame_index, name] = self.var_dict[name].get()\n",
    "\n",
    "    def next_frame(self):\n",
    "        self.save_frame()\n",
    "        if self.frame_index + 1 < len(self.df):\n",
    "            self.frame_index += 1\n",
    "            self.update_frame()\n",
    "        else:\n",
    "            self.save_csv()\n",
    "            messagebox.showinfo(\"Kész\", \"Elértél a videó végére.\")\n",
    "\n",
    "    def prev_frame(self):\n",
    "        self.save_frame()\n",
    "        if self.frame_index > 0:\n",
    "            self.frame_index -= 1\n",
    "            self.update_frame()\n",
    "\n",
    "    def save_csv(self):\n",
    "        video_file = self.video_files[self.current_index]\n",
    "        csv_path = os.path.join(CSV_DIR, video_file.replace(\".mp4\", \".csv\"))\n",
    "        self.df.to_csv(csv_path, index=False)\n",
    "\n",
    "    def on_closing(self):\n",
    "        self.save_frame()\n",
    "        self.save_csv()\n",
    "        self.root.destroy()\n",
    "\n",
    "if __name__ == '__main__':\n",
    "    root = tk.Tk()\n",
    "    app = VideoAnnotator(root)\n",
    "    root.mainloop()"
   ]
  },
  {
   "cell_type": "code",
   "execution_count": null,
   "id": "db6cb63c",
   "metadata": {},
   "outputs": [
    {
     "name": "stdout",
     "output_type": "stream",
     "text": [
      "Képkockák mentése kész.\n"
     ]
    }
   ],
   "source": [
    "\n",
    "# Nem jó, mert ez csak single lable\n",
    "\n",
    "\n",
    "# Képkockák kiszedése\n",
    "\n",
    "VIDEO_DIR = \"../Videos\"\n",
    "CSV_DIR = \"../Annotations\"\n",
    "OUTPUT_DIR = \"../ExtractedFrames\"\n",
    "IMAGE_SIZE = (256,256)\n",
    "FRAMES_PER_TIMESTAMP = 3 \n",
    "\n",
    "os.makedirs(OUTPUT_DIR, exist_ok=True)\n",
    "\n",
    "# Osztályok listája (timestamp nélkül)\n",
    "with open(os.path.join(CSV_DIR, os.listdir(CSV_DIR)[0]), 'r') as f:\n",
    "    header = f.readline().strip().split(',')\n",
    "\n",
    "COLUMNS = [col for col in header if col != 'timestamp']\n",
    "\n",
    "for video_file in sorted(os.listdir(VIDEO_DIR)):\n",
    "    if not video_file.endswith(\".mp4\"):\n",
    "        continue\n",
    "\n",
    "    base_name = os.path.splitext(video_file)[0]\n",
    "    video_path = os.path.join(VIDEO_DIR, video_file)\n",
    "    csv_path = os.path.join(CSV_DIR, f\"{base_name}.csv\")\n",
    "\n",
    "    df = pd.read_csv(csv_path)\n",
    "    cap = cv2.VideoCapture(video_path)\n",
    "    fps = cap.get(cv2.CAP_PROP_FPS)\n",
    "\n",
    "    for _, row in df.iterrows():\n",
    "        timestamp = row['timestamp']\n",
    "        active_labels = [label for label in COLUMNS if row.get(label, 0) == 1]\n",
    "        if not active_labels:\n",
    "            continue\n",
    "\n",
    "        # Időbélyeg képkockaszámra\n",
    "        center_frame = int(timestamp * fps)\n",
    "        offsets = [-1, 0, 1]  # 3 frame: középső + 1 előtte + 1 utána\n",
    "\n",
    "        for offset in offsets:\n",
    "            frame_num = center_frame + offset\n",
    "            cap.set(cv2.CAP_PROP_POS_FRAMES, frame_num)\n",
    "            ret, frame = cap.read()\n",
    "            if not ret:\n",
    "                continue\n",
    "\n",
    "            resized = cv2.resize(frame, IMAGE_SIZE)\n",
    "\n",
    "            for label in active_labels:\n",
    "                label_dir = os.path.join(OUTPUT_DIR, label)\n",
    "                os.makedirs(label_dir, exist_ok=True)\n",
    "                filename = f\"{base_name}_{timestamp:.1f}_{frame_num}.jpg\"\n",
    "                path = os.path.join(label_dir, filename)\n",
    "                cv2.imwrite(path, resized)\n",
    "\n",
    "    cap.release()\n",
    "\n",
    "print(\"Képkockák mentése kész.\")\n"
   ]
  },
  {
   "cell_type": "code",
   "execution_count": 10,
   "metadata": {},
   "outputs": [
    {
     "name": "stderr",
     "output_type": "stream",
     "text": [
      "100%|██████████| 244/244 [07:24<00:00,  1.82s/it]\n"
     ]
    },
    {
     "name": "stdout",
     "output_type": "stream",
     "text": [
      "Képkockák és címkék elmentve a multi-label tanításhoz.\n"
     ]
    }
   ],
   "source": [
    "\n",
    "# Ez tölti be jól a képeket, és hoz létre egy labels.csv fájlt hozzá!\n",
    "\n",
    "import os\n",
    "import cv2\n",
    "import pandas as pd\n",
    "import numpy as np\n",
    "from tqdm import tqdm\n",
    "\n",
    "\n",
    "VIDEO_DIR = \"../Videos\"\n",
    "CSV_DIR = \"../Annotations\"\n",
    "OUTPUT_DIR = \"../MultiLabelFrames\"\n",
    "LABEL_CSV_PATH = os.path.join(OUTPUT_DIR, \"labels.csv\")\n",
    "IMAGE_SIZE = (512, 512)\n",
    "FRAMES_PER_TIMESTAMP = 3\n",
    "\n",
    "# Hozzuk létre a célmappát\n",
    "os.makedirs(OUTPUT_DIR, exist_ok=True)\n",
    "\n",
    "# Oszlopnevek beolvasása az első CSV fájlból\n",
    "sample_csv = os.path.join(CSV_DIR, os.listdir(CSV_DIR)[0])\n",
    "with open(sample_csv, 'r') as f:\n",
    "    header = f.readline().strip().split(',')\n",
    "COLUMNS = [col for col in header if col != 'timestamp']\n",
    "\n",
    "# Itt tároljuk a fájlneveket és címkéket\n",
    "file_records = []\n",
    "\n",
    "# Videók feldolgozása\n",
    "for video_file in tqdm(sorted(os.listdir(VIDEO_DIR))):\n",
    "    if not video_file.endswith(\".mp4\"):\n",
    "        continue\n",
    "\n",
    "    base_name = os.path.splitext(video_file)[0]\n",
    "    video_path = os.path.join(VIDEO_DIR, video_file)\n",
    "    csv_path = os.path.join(CSV_DIR, f\"{base_name}.csv\")\n",
    "\n",
    "    if not os.path.exists(csv_path):\n",
    "        print(f\"Hiányzó CSV: {csv_path}\")\n",
    "        continue\n",
    "\n",
    "    df = pd.read_csv(csv_path)\n",
    "    cap = cv2.VideoCapture(video_path)\n",
    "    fps = cap.get(cv2.CAP_PROP_FPS)\n",
    "\n",
    "    for _, row in df.iterrows():\n",
    "        timestamp = row['timestamp']\n",
    "        active_labels = [label for label in COLUMNS if row[label] == 1]\n",
    "        if not active_labels:\n",
    "            continue\n",
    "\n",
    "        center_frame = int(timestamp * fps)\n",
    "        offsets = [-1, 0, 1]  # 3 képkocka\n",
    "\n",
    "        for offset in offsets:\n",
    "            frame_num = center_frame + offset\n",
    "            cap.set(cv2.CAP_PROP_POS_FRAMES, frame_num)\n",
    "            ret, frame = cap.read()\n",
    "            if not ret:\n",
    "                continue\n",
    "\n",
    "            resized = cv2.resize(frame, IMAGE_SIZE)\n",
    "\n",
    "            # Fájlnév létrehozása\n",
    "            filename = f\"{base_name}_{timestamp:.1f}_{frame_num}.jpg\"\n",
    "            filepath = os.path.join(OUTPUT_DIR, filename)\n",
    "            cv2.imwrite(filepath, resized)\n",
    "\n",
    "            # Címkék 0/1 listaként\n",
    "            label_vector = [int(label in active_labels) for label in COLUMNS]\n",
    "            file_records.append([filename] + label_vector)\n",
    "\n",
    "    cap.release()\n",
    "\n",
    "# Címkék mentése CSV-be\n",
    "label_df = pd.DataFrame(file_records, columns=[\"filename\"] + COLUMNS)\n",
    "label_df.to_csv(LABEL_CSV_PATH, index=False)\n",
    "\n",
    "print(\"Képkockák és címkék elmentve a multi-label tanításhoz.\")\n"
   ]
  },
  {
   "cell_type": "code",
   "execution_count": 11,
   "id": "5a1548ba",
   "metadata": {},
   "outputs": [],
   "source": [
    "from pathlib import Path\n",
    "import tensorflow as tf\n",
    "import pandas as pd\n",
    "\n",
    "base_path = Path(\"D:/Szakdolgozat/githubclone/kozlekedesi_tabla_felismero/MultiLabelFrames\")\n",
    "csv_path = base_path / \"labels.csv\"\n",
    "\n",
    "df = pd.read_csv(csv_path)\n",
    "image_paths = [str(base_path / fname) for fname in df[\"filename\"]]\n",
    "labels = df.drop(columns=[\"filename\"]).values.astype(\"float32\")\n",
    "\n",
    "def load_image(path, label):\n",
    "    image = tf.io.read_file(path)\n",
    "    image = tf.image.decode_jpeg(image, channels=3)\n",
    "    image = tf.image.resize(image, [512, 512])\n",
    "    image = image / 255.0\n",
    "    return image, label\n",
    "\n",
    "full_ds = tf.data.Dataset.from_tensor_slices((image_paths, labels))\n",
    "full_ds = full_ds.map(load_image, num_parallel_calls=tf.data.AUTOTUNE)\n",
    "full_ds = full_ds.shuffle(buffer_size=1000, seed=42)\n",
    "\n",
    "total = len(image_paths)\n",
    "train_size = int(total * 0.8)\n",
    "train_ds = full_ds.take(train_size).batch(32).prefetch(tf.data.AUTOTUNE)\n",
    "val_ds = full_ds.skip(train_size).batch(32).prefetch(tf.data.AUTOTUNE)\n"
   ]
  },
  {
   "cell_type": "code",
   "execution_count": null,
   "id": "91b9235b",
   "metadata": {},
   "outputs": [
    {
     "name": "stdout",
     "output_type": "stream",
     "text": [
      "Epoch 1/10\n",
      "213/213 [==============================] - 117s 448ms/step - loss: 0.1044 - accuracy: 0.1535 - val_loss: 0.0885 - val_accuracy: 0.1088\n",
      "Epoch 2/10\n",
      "213/213 [==============================] - 90s 420ms/step - loss: 0.0766 - accuracy: 0.1681 - val_loss: 0.0882 - val_accuracy: 0.0658\n",
      "Epoch 3/10\n",
      "213/213 [==============================] - 89s 417ms/step - loss: 0.0765 - accuracy: 0.1731 - val_loss: 0.0899 - val_accuracy: 0.1129\n",
      "Epoch 4/10\n",
      "213/213 [==============================] - 91s 423ms/step - loss: 0.0765 - accuracy: 0.1701 - val_loss: 0.0881 - val_accuracy: 0.0617\n",
      "Epoch 5/10\n",
      "213/213 [==============================] - 91s 426ms/step - loss: 0.0762 - accuracy: 0.1719 - val_loss: 0.0892 - val_accuracy: 0.1017\n",
      "Epoch 6/10\n",
      "213/213 [==============================] - 90s 420ms/step - loss: 0.0762 - accuracy: 0.1688 - val_loss: 0.0906 - val_accuracy: 0.1064\n",
      "Epoch 7/10\n",
      "213/213 [==============================] - 90s 419ms/step - loss: 0.0760 - accuracy: 0.1696 - val_loss: 0.0927 - val_accuracy: 0.1099\n",
      "Epoch 8/10\n",
      "213/213 [==============================] - 89s 417ms/step - loss: 0.0751 - accuracy: 0.1810 - val_loss: 0.0886 - val_accuracy: 0.1282\n",
      "Epoch 9/10\n",
      "213/213 [==============================] - 90s 418ms/step - loss: 0.0741 - accuracy: 0.1822 - val_loss: 0.0895 - val_accuracy: 0.1205\n",
      "Epoch 10/10\n",
      "213/213 [==============================] - 89s 416ms/step - loss: 0.0741 - accuracy: 0.1760 - val_loss: 0.0895 - val_accuracy: 0.1170\n"
     ]
    }
   ],
   "source": [
    "# Without Tranfer Learning\n",
    "\n",
    "# Osztályok száma a címkék alapján\n",
    "num_classes = train_ds.element_spec[1].shape[-1]\n",
    "\n",
    "# Modell definíció\n",
    "model = models.Sequential([\n",
    "    layers.Input(shape=(512, 512, 3)),\n",
    "    layers.Conv2D(32, 3, activation='relu'),\n",
    "    layers.MaxPooling2D(),\n",
    "    layers.Conv2D(64, 3, activation='relu'),\n",
    "    layers.MaxPooling2D(),\n",
    "    layers.Conv2D(128, 3, activation='relu'),\n",
    "    layers.GlobalAveragePooling2D(),\n",
    "    layers.Dense(128, activation='relu'),\n",
    "    layers.Dense(num_classes, activation='sigmoid')  # multi-label!\n",
    "])\n",
    "\n",
    "# Kompilálás binary_crossentropy-vel (multi-label esetén kötelező)\n",
    "model.compile(\n",
    "    optimizer='adam',\n",
    "    loss='binary_crossentropy',\n",
    "    metrics=['accuracy']\n",
    ")\n",
    "\n",
    "# Modell tanítása\n",
    "history = model.fit(\n",
    "    train_ds,\n",
    "    validation_data=val_ds,\n",
    "    epochs=10\n",
    ")\n"
   ]
  },
  {
   "cell_type": "code",
   "execution_count": null,
   "id": "4fab26fa",
   "metadata": {},
   "outputs": [],
   "source": [
    "print(num_classes)"
   ]
  },
  {
   "cell_type": "code",
   "execution_count": null,
   "id": "f45c4c31",
   "metadata": {},
   "outputs": [
    {
     "name": "stdout",
     "output_type": "stream",
     "text": [
      "WARNING:tensorflow:`input_shape` is undefined or non-square, or `rows` is not in [96, 128, 160, 192, 224]. Weights for input shape (224, 224) will be loaded as the default.\n",
      "Model: \"sequential_1\"\n",
      "_________________________________________________________________\n",
      " Layer (type)                Output Shape              Param #   \n",
      "=================================================================\n",
      " mobilenetv2_1.00_224 (Funct  (None, 16, 16, 1280)     2257984   \n",
      " ional)                                                          \n",
      "                                                                 \n",
      " global_average_pooling2d_1   (None, 1280)             0         \n",
      " (GlobalAveragePooling2D)                                        \n",
      "                                                                 \n",
      " dense_2 (Dense)             (None, 256)               327936    \n",
      "                                                                 \n",
      " dropout (Dropout)           (None, 256)               0         \n",
      "                                                                 \n",
      " dense_3 (Dense)             (None, 70)                17990     \n",
      "                                                                 \n",
      "=================================================================\n",
      "Total params: 2,603,910\n",
      "Trainable params: 345,926\n",
      "Non-trainable params: 2,257,984\n",
      "_________________________________________________________________\n",
      "Epoch 1/10\n",
      "213/213 [==============================] - 65s 291ms/step - loss: 0.1021 - AUC: 0.7880 - precision: 0.0889 - recall: 0.0539 - val_loss: 0.0797 - val_AUC: 0.8725 - val_precision: 1.0000 - val_recall: 0.0042\n",
      "Epoch 2/10\n",
      "213/213 [==============================] - 61s 285ms/step - loss: 0.0679 - AUC: 0.8988 - precision: 0.5586 - recall: 0.0726 - val_loss: 0.0737 - val_AUC: 0.8970 - val_precision: 0.9071 - val_recall: 0.0483\n",
      "Epoch 3/10\n",
      "213/213 [==============================] - 63s 291ms/step - loss: 0.0600 - AUC: 0.9299 - precision: 0.6737 - recall: 0.1158 - val_loss: 0.0687 - val_AUC: 0.9163 - val_precision: 0.9167 - val_recall: 0.0462\n",
      "Epoch 4/10\n",
      "213/213 [==============================] - 62s 287ms/step - loss: 0.0545 - AUC: 0.9463 - precision: 0.7163 - recall: 0.1692 - val_loss: 0.0657 - val_AUC: 0.9262 - val_precision: 0.8456 - val_recall: 0.0873\n",
      "Epoch 5/10\n",
      "213/213 [==============================] - 62s 290ms/step - loss: 0.0500 - AUC: 0.9574 - precision: 0.7535 - recall: 0.2224 - val_loss: 0.0606 - val_AUC: 0.9358 - val_precision: 0.8769 - val_recall: 0.1509\n",
      "Epoch 6/10\n",
      "213/213 [==============================] - 62s 289ms/step - loss: 0.0462 - AUC: 0.9670 - precision: 0.7720 - recall: 0.2791 - val_loss: 0.0580 - val_AUC: 0.9412 - val_precision: 0.9282 - val_recall: 0.1478\n",
      "Epoch 7/10\n",
      "213/213 [==============================] - 62s 291ms/step - loss: 0.0428 - AUC: 0.9736 - precision: 0.7876 - recall: 0.3224 - val_loss: 0.0579 - val_AUC: 0.9372 - val_precision: 0.8203 - val_recall: 0.2005\n",
      "Epoch 8/10\n",
      "213/213 [==============================] - 64s 296ms/step - loss: 0.0403 - AUC: 0.9772 - precision: 0.7943 - recall: 0.3676 - val_loss: 0.0524 - val_AUC: 0.9532 - val_precision: 0.8938 - val_recall: 0.2354\n",
      "Epoch 9/10\n",
      "213/213 [==============================] - 61s 286ms/step - loss: 0.0370 - AUC: 0.9819 - precision: 0.8173 - recall: 0.4186 - val_loss: 0.0503 - val_AUC: 0.9484 - val_precision: 0.9006 - val_recall: 0.2998\n",
      "Epoch 10/10\n",
      "213/213 [==============================] - 62s 288ms/step - loss: 0.0347 - AUC: 0.9845 - precision: 0.8169 - recall: 0.4564 - val_loss: 0.0512 - val_AUC: 0.9490 - val_precision: 0.8214 - val_recall: 0.2962\n"
     ]
    }
   ],
   "source": [
    "# Transfer Learning\n",
    "\n",
    "# Osztályok száma (automatikusan kinyerhető, ha train_ds már létezik)\n",
    "num_classes = train_ds.element_spec[1].shape[-1]\n",
    "\n",
    "# Transfer learning alapmodell (ImageNet-ről)\n",
    "base_model = MobileNetV2(input_shape=(512, 512, 3),\n",
    "                         include_top=False,\n",
    "                         weights='imagenet')\n",
    "base_model.trainable = False  # nem tanítjuk újra az alap CNN-t\n",
    "\n",
    "# Végső modell\n",
    "model = models.Sequential([\n",
    "    base_model,\n",
    "    layers.GlobalAveragePooling2D(),\n",
    "    layers.Dense(256, activation='relu'),\n",
    "    layers.Dropout(0.4),\n",
    "    layers.Dense(num_classes, activation='sigmoid')  # több címkére egyszerre\n",
    "])\n",
    "\n",
    "# Kompilálás jobb metrikákkal\n",
    "model.compile(\n",
    "    optimizer='adam',\n",
    "    loss='binary_crossentropy',\n",
    "    metrics=[\n",
    "        tf.keras.metrics.AUC(name='AUC'),\n",
    "        tf.keras.metrics.Precision(name='precision'),\n",
    "        tf.keras.metrics.Recall(name='recall')\n",
    "    ]\n",
    ")"
   ]
  },
  {
   "cell_type": "code",
   "execution_count": null,
   "id": "f3449bc1",
   "metadata": {},
   "outputs": [],
   "source": [
    "\n",
    "# Tanítás\n",
    "history = model.fit(\n",
    "    train_ds,\n",
    "    validation_data=val_ds,\n",
    "    epochs=10\n",
    ")"
   ]
  },
  {
   "cell_type": "code",
   "execution_count": 14,
   "id": "a548291f",
   "metadata": {},
   "outputs": [
    {
     "data": {
      "image/png": "[encoded data removed]",
      "text/plain": [
       "<Figure size 1600x1000 with 4 Axes>"
      ]
     },
     "metadata": {},
     "output_type": "display_data"
    }
   ],
   "source": [
    "# --- Grafikonok rajzolása ---\n",
    "def plot_training_history(history):\n",
    "    metrics = ['loss', 'AUC', 'precision', 'recall']\n",
    "    \n",
    "    plt.figure(figsize=(16, 10))\n",
    "    \n",
    "    for i, metric in enumerate(metrics, 1):\n",
    "        plt.subplot(2, 2, i)\n",
    "        plt.plot(history.history[metric], label=f'Train {metric}')\n",
    "        plt.plot(history.history[f'val_{metric}'], label=f'Val {metric}')\n",
    "        plt.xlabel('Epoch')\n",
    "        plt.ylabel(metric)\n",
    "        plt.title(f'{metric.capitalize()} per Epoch')\n",
    "        plt.legend()\n",
    "        plt.grid(True)\n",
    "    \n",
    "    plt.tight_layout()\n",
    "    plt.show()\n",
    "\n",
    "plot_training_history(history)"
   ]
  },
  {
   "cell_type": "code",
   "execution_count": null,
   "id": "88047b91",
   "metadata": {},
   "outputs": [],
   "source": [
    "# Modell összefoglaló\n",
    "model.summary()"
   ]
  },
  {
   "cell_type": "code",
   "execution_count": 8,
   "id": "1221f5ed",
   "metadata": {},
   "outputs": [],
   "source": [
    "def recall_m(y_true, y_pred):\n",
    "    y_true = tf.cast(y_true, tf.float32)    \n",
    "    y_pred = tf.cast(y_pred, tf.float32)\n",
    "    true_positives = K.sum(K.round(K.clip(y_true * y_pred, 0, 1)))\n",
    "    possible_positives = K.sum(K.round(K.clip(y_true, 0, 1)))\n",
    "    recall = true_positives / (possible_positives + K.epsilon())\n",
    "    return recall\n",
    "\n",
    "def precision_m(y_true, y_pred):\n",
    "    y_true = tf.cast(y_true, tf.float32)\n",
    "    y_pred = tf.cast(y_pred, tf.float32)\n",
    "    true_positives = K.sum(K.round(K.clip(y_true * y_pred, 0, 1)))\n",
    "    predicted_positives = K.sum(K.round(K.clip(y_pred, 0, 1)))\n",
    "    precision = true_positives / (predicted_positives + K.epsilon())\n",
    "    return precision\n",
    "\n",
    "def f1_m(y_true, y_pred):\n",
    "    y_true = tf.cast(y_true, tf.float32)\n",
    "    y_pred = tf.cast(y_pred, tf.float32)\n",
    "    precision = precision_m(y_true, y_pred)\n",
    "    recall = recall_m(y_true, y_pred)\n",
    "    return 2*((precision*recall)/(precision+recall+K.epsilon()))"
   ]
  },
  {
   "cell_type": "code",
   "execution_count": null,
   "id": "8e6304a2",
   "metadata": {},
   "outputs": [
    {
     "name": "stdout",
     "output_type": "stream",
     "text": [
      "Found 11942 files belonging to 49 classes.\n",
      "Using 9554 files for training.\n",
      "Found 11942 files belonging to 49 classes.\n",
      "Using 2388 files for validation.\n"
     ]
    }
   ],
   "source": [
    "\n",
    "# Újra betöltjük a train_ds-t és val_ds-t megfelelő képmérettel + preprocess_input\n",
    "train_ds = tf.keras.utils.image_dataset_from_directory(\n",
    "    \"../ExtractedFrames\",\n",
    "    validation_split=0.2,\n",
    "    subset=\"training\",\n",
    "    seed=SEED,\n",
    "    image_size=(IMG_SIZE, IMG_SIZE),\n",
    "    batch_size=batch_size\n",
    ")\n",
    "\n",
    "val_ds = tf.keras.utils.image_dataset_from_directory(\n",
    "    \"../ExtractedFrames\",\n",
    "    validation_split=0.2,\n",
    "    subset=\"validation\",\n",
    "    seed=SEED,\n",
    "    image_size=(IMG_SIZE, IMG_SIZE),\n",
    "    batch_size=batch_size\n",
    ")\n",
    "\n",
    "# Normalizálás a MobileNetV2-hez illően\n",
    "train_ds = train_ds.map(lambda x, y: (preprocess_input(x), y))\n",
    "val_ds = val_ds.map(lambda x, y: (preprocess_input(x), y))\n",
    "\n",
    "# Prefetch az adatfolyam gyorsításához\n",
    "AUTOTUNE = tf.data.AUTOTUNE\n",
    "train_ds = train_ds.cache().prefetch(buffer_size=AUTOTUNE)\n",
    "val_ds = val_ds.cache().prefetch(buffer_size=AUTOTUNE)\n"
   ]
  },
  {
   "cell_type": "code",
   "execution_count": null,
   "id": "75222a67",
   "metadata": {},
   "outputs": [],
   "source": [
    "# Alapmodell betöltése (ImageNet-ről előtanított súlyokkal\n",
    "base_model = MobileNetV2(input_shape=(IMG_SIZE, IMG_SIZE, 3),\n",
    "                         include_top=False,  # Ne tartalmazza az eredeti kimeneti réteget\n",
    "                         weights='imagenet')\n",
    "\n",
    "base_model.trainable = False  # Nem tanítjuk az alapmodell rétegeit (csak a fejet)\n",
    "\n",
    "# Modell felépítése\n",
    "model = models.Sequential([\n",
    "    base_model,\n",
    "    layers.GlobalAveragePooling2D(),\n",
    "    layers.Dense(256, activation='relu'),\n",
    "    layers.Dropout(0.3),\n",
    "    layers.Dense(NUM_CLASSES, activation='relu'),\n",
    "    layers.Dense(\n",
    "        NUM_CLASSES, \n",
    "        activation='sigmoid')\n",
    "])\n"
   ]
  },
  {
   "cell_type": "code",
   "execution_count": 12,
   "id": "31d29374",
   "metadata": {},
   "outputs": [
    {
     "name": "stdout",
     "output_type": "stream",
     "text": [
      "Epoch 1/10\n"
     ]
    },
    {
     "ename": "ValueError",
     "evalue": "in user code:\n\n    File \"c:\\Users\\fabia\\anaconda3\\envs\\tf_env\\lib\\site-packages\\keras\\engine\\training.py\", line 1160, in train_function  *\n        return step_function(self, iterator)\n    File \"c:\\Users\\fabia\\anaconda3\\envs\\tf_env\\lib\\site-packages\\keras\\engine\\training.py\", line 1146, in step_function  **\n        outputs = model.distribute_strategy.run(run_step, args=(data,))\n    File \"c:\\Users\\fabia\\anaconda3\\envs\\tf_env\\lib\\site-packages\\keras\\engine\\training.py\", line 1135, in run_step  **\n        outputs = model.train_step(data)\n    File \"c:\\Users\\fabia\\anaconda3\\envs\\tf_env\\lib\\site-packages\\keras\\engine\\training.py\", line 994, in train_step\n        loss = self.compute_loss(x, y, y_pred, sample_weight)\n    File \"c:\\Users\\fabia\\anaconda3\\envs\\tf_env\\lib\\site-packages\\keras\\engine\\training.py\", line 1052, in compute_loss\n        return self.compiled_loss(\n    File \"c:\\Users\\fabia\\anaconda3\\envs\\tf_env\\lib\\site-packages\\keras\\engine\\compile_utils.py\", line 265, in __call__\n        loss_value = loss_obj(y_t, y_p, sample_weight=sw)\n    File \"c:\\Users\\fabia\\anaconda3\\envs\\tf_env\\lib\\site-packages\\keras\\losses.py\", line 152, in __call__\n        losses = call_fn(y_true, y_pred)\n    File \"c:\\Users\\fabia\\anaconda3\\envs\\tf_env\\lib\\site-packages\\keras\\losses.py\", line 272, in call  **\n        return ag_fn(y_true, y_pred, **self._fn_kwargs)\n    File \"c:\\Users\\fabia\\anaconda3\\envs\\tf_env\\lib\\site-packages\\keras\\losses.py\", line 2162, in binary_crossentropy\n        backend.binary_crossentropy(y_true, y_pred, from_logits=from_logits),\n    File \"c:\\Users\\fabia\\anaconda3\\envs\\tf_env\\lib\\site-packages\\keras\\backend.py\", line 5677, in binary_crossentropy\n        return tf.nn.sigmoid_cross_entropy_with_logits(\n\n    ValueError: `logits` and `labels` must have the same shape, received ((None, 49) vs (None, 1)).\n",
     "output_type": "error",
     "traceback": [
      "\u001b[1;31m---------------------------------------------------------------------------\u001b[0m",
      "\u001b[1;31mValueError\u001b[0m                                Traceback (most recent call last)",
      "Cell \u001b[1;32mIn[12], line 8\u001b[0m\n\u001b[0;32m      1\u001b[0m model\u001b[38;5;241m.\u001b[39mcompile(optimizer\u001b[38;5;241m=\u001b[39moptimizer,\n\u001b[0;32m      2\u001b[0m               loss\u001b[38;5;241m=\u001b[39m\u001b[38;5;124m'\u001b[39m\u001b[38;5;124mbinary_crossentropy\u001b[39m\u001b[38;5;124m'\u001b[39m,\n\u001b[0;32m      3\u001b[0m               metrics\u001b[38;5;241m=\u001b[39m[\u001b[38;5;124m'\u001b[39m\u001b[38;5;124maccuracy\u001b[39m\u001b[38;5;124m'\u001b[39m, \n\u001b[0;32m      4\u001b[0m                                                             f1_m, \n\u001b[0;32m      5\u001b[0m                                                             precision_m, recall_m])\n\u001b[0;32m      7\u001b[0m \u001b[38;5;66;03m# Modell tanítása\u001b[39;00m\n\u001b[1;32m----> 8\u001b[0m history \u001b[38;5;241m=\u001b[39m \u001b[43mmodel\u001b[49m\u001b[38;5;241;43m.\u001b[39;49m\u001b[43mfit\u001b[49m\u001b[43m(\u001b[49m\n\u001b[0;32m      9\u001b[0m \u001b[43m    \u001b[49m\u001b[43mtrain_ds\u001b[49m\u001b[43m,\u001b[49m\n\u001b[0;32m     10\u001b[0m \u001b[43m    \u001b[49m\u001b[43mvalidation_data\u001b[49m\u001b[38;5;241;43m=\u001b[39;49m\u001b[43mval_ds\u001b[49m\u001b[43m,\u001b[49m\n\u001b[0;32m     11\u001b[0m \u001b[43m    \u001b[49m\u001b[43mepochs\u001b[49m\u001b[38;5;241;43m=\u001b[39;49m\u001b[43mepochs\u001b[49m\n\u001b[0;32m     12\u001b[0m \u001b[43m)\u001b[49m\n",
      "File \u001b[1;32mc:\\Users\\fabia\\anaconda3\\envs\\tf_env\\lib\\site-packages\\keras\\utils\\traceback_utils.py:70\u001b[0m, in \u001b[0;36mfilter_traceback.<locals>.error_handler\u001b[1;34m(*args, **kwargs)\u001b[0m\n\u001b[0;32m     67\u001b[0m     filtered_tb \u001b[38;5;241m=\u001b[39m _process_traceback_frames(e\u001b[38;5;241m.\u001b[39m__traceback__)\n\u001b[0;32m     68\u001b[0m     \u001b[38;5;66;03m# To get the full stack trace, call:\u001b[39;00m\n\u001b[0;32m     69\u001b[0m     \u001b[38;5;66;03m# `tf.debugging.disable_traceback_filtering()`\u001b[39;00m\n\u001b[1;32m---> 70\u001b[0m     \u001b[38;5;28;01mraise\u001b[39;00m e\u001b[38;5;241m.\u001b[39mwith_traceback(filtered_tb) \u001b[38;5;28;01mfrom\u001b[39;00m\u001b[38;5;250m \u001b[39m\u001b[38;5;28;01mNone\u001b[39;00m\n\u001b[0;32m     71\u001b[0m \u001b[38;5;28;01mfinally\u001b[39;00m:\n\u001b[0;32m     72\u001b[0m     \u001b[38;5;28;01mdel\u001b[39;00m filtered_tb\n",
      "File \u001b[1;32m~\\AppData\\Local\\Temp\\__autograph_generated_fileiqz27sfb.py:15\u001b[0m, in \u001b[0;36mouter_factory.<locals>.inner_factory.<locals>.tf__train_function\u001b[1;34m(iterator)\u001b[0m\n\u001b[0;32m     13\u001b[0m \u001b[38;5;28;01mtry\u001b[39;00m:\n\u001b[0;32m     14\u001b[0m     do_return \u001b[38;5;241m=\u001b[39m \u001b[38;5;28;01mTrue\u001b[39;00m\n\u001b[1;32m---> 15\u001b[0m     retval_ \u001b[38;5;241m=\u001b[39m ag__\u001b[38;5;241m.\u001b[39mconverted_call(ag__\u001b[38;5;241m.\u001b[39mld(step_function), (ag__\u001b[38;5;241m.\u001b[39mld(\u001b[38;5;28mself\u001b[39m), ag__\u001b[38;5;241m.\u001b[39mld(iterator)), \u001b[38;5;28;01mNone\u001b[39;00m, fscope)\n\u001b[0;32m     16\u001b[0m \u001b[38;5;28;01mexcept\u001b[39;00m:\n\u001b[0;32m     17\u001b[0m     do_return \u001b[38;5;241m=\u001b[39m \u001b[38;5;28;01mFalse\u001b[39;00m\n",
      "\u001b[1;31mValueError\u001b[0m: in user code:\n\n    File \"c:\\Users\\fabia\\anaconda3\\envs\\tf_env\\lib\\site-packages\\keras\\engine\\training.py\", line 1160, in train_function  *\n        return step_function(self, iterator)\n    File \"c:\\Users\\fabia\\anaconda3\\envs\\tf_env\\lib\\site-packages\\keras\\engine\\training.py\", line 1146, in step_function  **\n        outputs = model.distribute_strategy.run(run_step, args=(data,))\n    File \"c:\\Users\\fabia\\anaconda3\\envs\\tf_env\\lib\\site-packages\\keras\\engine\\training.py\", line 1135, in run_step  **\n        outputs = model.train_step(data)\n    File \"c:\\Users\\fabia\\anaconda3\\envs\\tf_env\\lib\\site-packages\\keras\\engine\\training.py\", line 994, in train_step\n        loss = self.compute_loss(x, y, y_pred, sample_weight)\n    File \"c:\\Users\\fabia\\anaconda3\\envs\\tf_env\\lib\\site-packages\\keras\\engine\\training.py\", line 1052, in compute_loss\n        return self.compiled_loss(\n    File \"c:\\Users\\fabia\\anaconda3\\envs\\tf_env\\lib\\site-packages\\keras\\engine\\compile_utils.py\", line 265, in __call__\n        loss_value = loss_obj(y_t, y_p, sample_weight=sw)\n    File \"c:\\Users\\fabia\\anaconda3\\envs\\tf_env\\lib\\site-packages\\keras\\losses.py\", line 152, in __call__\n        losses = call_fn(y_true, y_pred)\n    File \"c:\\Users\\fabia\\anaconda3\\envs\\tf_env\\lib\\site-packages\\keras\\losses.py\", line 272, in call  **\n        return ag_fn(y_true, y_pred, **self._fn_kwargs)\n    File \"c:\\Users\\fabia\\anaconda3\\envs\\tf_env\\lib\\site-packages\\keras\\losses.py\", line 2162, in binary_crossentropy\n        backend.binary_crossentropy(y_true, y_pred, from_logits=from_logits),\n    File \"c:\\Users\\fabia\\anaconda3\\envs\\tf_env\\lib\\site-packages\\keras\\backend.py\", line 5677, in binary_crossentropy\n        return tf.nn.sigmoid_cross_entropy_with_logits(\n\n    ValueError: `logits` and `labels` must have the same shape, received ((None, 49) vs (None, 1)).\n"
     ]
    }
   ],
   "source": [
    "\n",
    "model.compile(optimizer=optimizer,\n",
    "              loss='binary_crossentropy',\n",
    "              metrics=['accuracy', \n",
    "                                                            f1_m, \n",
    "                                                            precision_m, recall_m])\n",
    "\n",
    "# Modell tanítása\n",
    "history = model.fit(\n",
    "    train_ds,\n",
    "    validation_data=val_ds,\n",
    "    epochs=epochs\n",
    ")\n"
   ]
  },
  {
   "cell_type": "code",
   "execution_count": 37,
   "id": "3fa1478b",
   "metadata": {},
   "outputs": [
    {
     "name": "stdout",
     "output_type": "stream",
     "text": [
      "Model: \"sequential_4\"\n",
      "_________________________________________________________________\n",
      " Layer (type)                Output Shape              Param #   \n",
      "=================================================================\n",
      " mobilenetv2_1.00_224 (Funct  (None, 7, 7, 1280)       2257984   \n",
      " ional)                                                          \n",
      "                                                                 \n",
      " global_average_pooling2d_4   (None, 1280)             0         \n",
      " (GlobalAveragePooling2D)                                        \n",
      "                                                                 \n",
      " dense_8 (Dense)             (None, 256)               327936    \n",
      "                                                                 \n",
      " dropout_4 (Dropout)         (None, 256)               0         \n",
      "                                                                 \n",
      " dense_9 (Dense)             (None, 49)                12593     \n",
      "                                                                 \n",
      "=================================================================\n",
      "Total params: 2,598,513\n",
      "Trainable params: 340,529\n",
      "Non-trainable params: 2,257,984\n",
      "_________________________________________________________________\n"
     ]
    }
   ],
   "source": [
    "model.summary()"
   ]
  },
  {
   "cell_type": "code",
   "execution_count": 38,
   "id": "99770a27",
   "metadata": {},
   "outputs": [
    {
     "data": {
      "image/png": "[encoded data removed]",
      "text/plain": [
       "<Figure size 1200x500 with 2 Axes>"
      ]
     },
     "metadata": {},
     "output_type": "display_data"
    }
   ],
   "source": [
    "plt.figure(figsize=(12, 5))\n",
    "\n",
    "plt.subplot(1, 2, 1)\n",
    "plt.plot(history.history['accuracy'], label='Train Accuracy')\n",
    "plt.plot(history.history['val_accuracy'], label='Validation Accuracy')\n",
    "plt.title('Pontosság')\n",
    "plt.xlabel('Epoch')\n",
    "plt.ylabel('Accuracy')\n",
    "plt.legend()\n",
    "\n",
    "plt.subplot(1, 2, 2)\n",
    "plt.plot(history.history['loss'], label='Train Loss')\n",
    "plt.plot(history.history['val_loss'], label='Validation Loss')\n",
    "plt.title('Loss')\n",
    "plt.xlabel('Epoch')\n",
    "plt.ylabel('Loss')\n",
    "plt.legend()\n",
    "\n",
    "plt.tight_layout()\n",
    "plt.show()"
   ]
  },
  {
   "cell_type": "code",
   "execution_count": null,
   "id": "80ca3ac4",
   "metadata": {},
   "outputs": [],
   "source": []
  },
  {
   "cell_type": "code",
   "execution_count": 39,
   "metadata": {},
   "outputs": [
    {
     "name": "stderr",
     "output_type": "stream",
     "text": [
      "WARNING:absl:Function `_wrapped_model` contains input name(s) mobilenetv2_1.00_224_input with unsupported characters which will be renamed to mobilenetv2_1_00_224_input in the SavedModel.\n",
      "WARNING:absl:Found untraced functions such as _jit_compiled_convolution_op, _jit_compiled_convolution_op, _jit_compiled_convolution_op, _jit_compiled_convolution_op, _jit_compiled_convolution_op while saving (showing 5 of 52). These functions will not be directly callable after loading.\n"
     ]
    },
    {
     "name": "stdout",
     "output_type": "stream",
     "text": [
      "INFO:tensorflow:Assets written to: D:/Szakdolgozat/traffic_sign_model\\assets\n"
     ]
    },
    {
     "name": "stderr",
     "output_type": "stream",
     "text": [
      "INFO:tensorflow:Assets written to: D:/Szakdolgozat/traffic_sign_model\\assets\n"
     ]
    }
   ],
   "source": [
    "# Modell mentése .h5 fájlba\n",
    "model.save(\"traffic_sign_model.h5\")\n",
    "# Modell mentése SaveModel formátumban\n",
    "model.save(\"D:/Szakdolgozat/traffic_sign_model\")  # mappa lesz belőle"
   ]
  },
  {
   "cell_type": "code",
   "execution_count": null,
   "metadata": {},
   "outputs": [],
   "source": [
    "# --- Beállítások ---\n",
    "MODEL_PATH = \"model.h5\"  \n",
    "LABELS_PATH = \"sign_names.npy\"\n",
    "IMG_PATH = \"test_image.jpg\"  # Cseréld ki a saját képedre\n",
    "IMG_SIZE = (512, 512)  # Ugyanakkora legyen, mint a tanításhoz\n",
    "\n",
    "# --- Modell és címkék betöltése ---\n",
    "model = load_model(\"../traffic_sign_model\")\n",
    "sign_names = np.load(LABELS_PATH)\n"
   ]
  },
  {
   "cell_type": "code",
   "execution_count": null,
   "id": "a435765b",
   "metadata": {},
   "outputs": [],
   "source": [
    "\n",
    "# --- Kép betöltése és előfeldolgozása ---\n",
    "img = image.load_img(IMG_PATH, target_size=IMG_SIZE)\n",
    "img_array = image.img_to_array(img)\n",
    "img_array = img_array / 255.0  # Normalizálás\n",
    "img_array = np.expand_dims(img_array, axis=0)  # (1, 512, 512, 3)\n",
    "\n",
    "# --- Predikció ---\n",
    "predictions = model.predict(img_array)\n",
    "predicted_index = np.argmax(predictions[0])\n",
    "predicted_label = sign_names[predicted_index]\n",
    "confidence = np.max(predictions[0])\n",
    "\n",
    "# --- Eredmény kiírása ---\n",
    "print(f\"Predikált tábla: {predicted_label} ({confidence*100:.2f}% biztonsággal)\")\n",
    "\n",
    "# --- Kép megjelenítése ---\n",
    "plt.imshow(img)\n",
    "plt.title(f\"Predikció: {predicted_label}\")\n",
    "plt.axis('off')\n",
    "plt.show()\n"
   ]
  },
  {
   "cell_type": "code",
   "execution_count": 16,
   "id": "eec544fd",
   "metadata": {},
   "outputs": [
    {
     "data": {
      "text/plain": [
       "49"
      ]
     },
     "execution_count": 16,
     "metadata": {},
     "output_type": "execute_result"
    }
   ],
   "source": [
    "len(os.listdir(\"../ExtractedFrames\"))"
   ]
  },
  {
   "cell_type": "code",
   "execution_count": null,
   "id": "c514eae8",
   "metadata": {},
   "outputs": [
    {
     "name": "stdout",
     "output_type": "stream",
     "text": [
      "Model: \"sequential\"\n",
      "_________________________________________________________________\n",
      " Layer (type)                Output Shape              Param #   \n",
      "=================================================================\n",
      " conv2d (Conv2D)             (None, 254, 254, 32)      896       \n",
      "                                                                 \n",
      " max_pooling2d (MaxPooling2D  (None, 127, 127, 32)     0         \n",
      " )                                                               \n",
      "                                                                 \n",
      " conv2d_1 (Conv2D)           (None, 125, 125, 64)      18496     \n",
      "                                                                 \n",
      " max_pooling2d_1 (MaxPooling  (None, 62, 62, 64)       0         \n",
      " 2D)                                                             \n",
      "                                                                 \n",
      " conv2d_2 (Conv2D)           (None, 60, 60, 128)       73856     \n",
      "                                                                 \n",
      " max_pooling2d_2 (MaxPooling  (None, 30, 30, 128)      0         \n",
      " 2D)                                                             \n",
      "                                                                 \n",
      " flatten (Flatten)           (None, 115200)            0         \n",
      "                                                                 \n",
      " dense (Dense)               (None, 128)               14745728  \n",
      "                                                                 \n",
      " dropout (Dropout)           (None, 128)               0         \n",
      "                                                                 \n",
      " dense_1 (Dense)             (None, 71)                9159      \n",
      "                                                                 \n",
      "=================================================================\n",
      "Total params: 14,848,135\n",
      "Trainable params: 14,848,135\n",
      "Non-trainable params: 0\n",
      "_________________________________________________________________\n"
     ]
    }
   ],
   "source": [
    "\n",
    "\n",
    "model = models.Sequential([\n",
    "    layers.Input(shape=(IMG_SIZE, IMG_SIZE, 3)),\n",
    "\n",
    "    layers.Conv2D(32, 3, activation='relu'),\n",
    "    layers.MaxPooling2D(),\n",
    "\n",
    "    layers.Conv2D(64, 3, activation='relu'),\n",
    "    layers.MaxPooling2D(),\n",
    "\n",
    "    layers.Conv2D(128, 3, activation='relu'),\n",
    "    layers.MaxPooling2D(),\n",
    "\n",
    "    layers.Flatten(),\n",
    "    layers.Dense(128, activation='relu'),\n",
    "    layers.Dropout(0.5),\n",
    "\n",
    "    layers.Dense(NUM_CLASSES, activation='softmax')\n",
    "])\n",
    "\n",
    "model.compile(\n",
    "    optimizer='adam',\n",
    "    loss='sparse_categorical_crossentropy',  # mivel integer címkéid vannak\n",
    "    metrics=['accuracy']\n",
    ")\n",
    "\n",
    "model.summary()"
   ]
  },
  {
   "cell_type": "code",
   "execution_count": null,
   "id": "5e73f268",
   "metadata": {},
   "outputs": [
    {
     "name": "stdout",
     "output_type": "stream",
     "text": [
      "Found 11942 files belonging to 49 classes.\n",
      "Using 9554 files for training.\n",
      "Found 11942 files belonging to 49 classes.\n",
      "Using 2388 files for validation.\n"
     ]
    }
   ],
   "source": []
  },
  {
   "cell_type": "code",
   "execution_count": null,
   "id": "c7105a92",
   "metadata": {},
   "outputs": [
    {
     "data": {
      "text/plain": [
       "(48, 48)"
      ]
     },
     "execution_count": 8,
     "metadata": {},
     "output_type": "execute_result"
    }
   ],
   "source": []
  },
  {
   "cell_type": "code",
   "execution_count": 15,
   "id": "d1e7b441",
   "metadata": {},
   "outputs": [
    {
     "ename": "NameError",
     "evalue": "name 'FrameGenerator' is not defined",
     "output_type": "error",
     "traceback": [
      "\u001b[1;31m---------------------------------------------------------------------------\u001b[0m",
      "\u001b[1;31mNameError\u001b[0m                                 Traceback (most recent call last)",
      "Cell \u001b[1;32mIn[15], line 1\u001b[0m\n\u001b[1;32m----> 1\u001b[0m fg \u001b[38;5;241m=\u001b[39m \u001b[43mFrameGenerator\u001b[49m(training\u001b[38;5;241m=\u001b[39m\u001b[38;5;28;01mTrue\u001b[39;00m)\n\u001b[0;32m      3\u001b[0m frames, label \u001b[38;5;241m=\u001b[39m \u001b[38;5;28mnext\u001b[39m(fg())\n\u001b[0;32m      5\u001b[0m \u001b[38;5;28mprint\u001b[39m(\u001b[38;5;124mf\u001b[39m\u001b[38;5;124m\"\u001b[39m\u001b[38;5;124mShape: \u001b[39m\u001b[38;5;132;01m{\u001b[39;00mframes\u001b[38;5;241m.\u001b[39mshape\u001b[38;5;132;01m}\u001b[39;00m\u001b[38;5;124m\"\u001b[39m)\n",
      "\u001b[1;31mNameError\u001b[0m: name 'FrameGenerator' is not defined"
     ]
    }
   ],
   "source": [
    "fg = FrameGenerator(training=True)\n",
    "\n",
    "frames, label = next(fg())\n",
    "\n",
    "print(f\"Shape: {frames.shape}\")\n",
    "print(f\"Label: {label}\")"
   ]
  },
  {
   "cell_type": "code",
   "execution_count": 16,
   "id": "f092efea",
   "metadata": {},
   "outputs": [
    {
     "ename": "NameError",
     "evalue": "name 'FrameGenerator' is not defined",
     "output_type": "error",
     "traceback": [
      "\u001b[1;31m---------------------------------------------------------------------------\u001b[0m",
      "\u001b[1;31mNameError\u001b[0m                                 Traceback (most recent call last)",
      "Cell \u001b[1;32mIn[16], line 5\u001b[0m\n\u001b[0;32m      1\u001b[0m \u001b[38;5;66;03m# Create the training set\u001b[39;00m\n\u001b[0;32m      2\u001b[0m output_signature \u001b[38;5;241m=\u001b[39m (tf\u001b[38;5;241m.\u001b[39mTensorSpec(shape \u001b[38;5;241m=\u001b[39m (\u001b[38;5;28;01mNone\u001b[39;00m, \u001b[38;5;28;01mNone\u001b[39;00m, \u001b[38;5;28;01mNone\u001b[39;00m, \u001b[38;5;241m3\u001b[39m), dtype \u001b[38;5;241m=\u001b[39m tf\u001b[38;5;241m.\u001b[39mfloat32),\n\u001b[0;32m      3\u001b[0m                     tf\u001b[38;5;241m.\u001b[39mTensorSpec(shape \u001b[38;5;241m=\u001b[39m (), dtype \u001b[38;5;241m=\u001b[39m tf\u001b[38;5;241m.\u001b[39mint16))\n\u001b[1;32m----> 5\u001b[0m train_ds \u001b[38;5;241m=\u001b[39m tf\u001b[38;5;241m.\u001b[39mdata\u001b[38;5;241m.\u001b[39mDataset\u001b[38;5;241m.\u001b[39mfrom_generator(\u001b[43mFrameGenerator\u001b[49m(\u001b[38;5;66;03m#  10, \u001b[39;00m\n\u001b[0;32m      6\u001b[0m                                                          training\u001b[38;5;241m=\u001b[39m\u001b[38;5;28;01mTrue\u001b[39;00m),\n\u001b[0;32m      7\u001b[0m                                           output_signature \u001b[38;5;241m=\u001b[39m output_signature)\n",
      "\u001b[1;31mNameError\u001b[0m: name 'FrameGenerator' is not defined"
     ]
    }
   ],
   "source": [
    "# Create the training set\n",
    "output_signature = (tf.TensorSpec(shape = (None, None, None, 3), dtype = tf.float32),\n",
    "                    tf.TensorSpec(shape = (), dtype = tf.int16))\n",
    "\n",
    "train_ds = tf.data.Dataset.from_generator(FrameGenerator(#  10, \n",
    "                                                         training=True),\n",
    "                                          output_signature = output_signature)"
   ]
  },
  {
   "cell_type": "code",
   "execution_count": 17,
   "id": "5a28701c",
   "metadata": {},
   "outputs": [
    {
     "ename": "NameError",
     "evalue": "name 'FrameGenerator' is not defined",
     "output_type": "error",
     "traceback": [
      "\u001b[1;31m---------------------------------------------------------------------------\u001b[0m",
      "\u001b[1;31mNameError\u001b[0m                                 Traceback (most recent call last)",
      "Cell \u001b[1;32mIn[17], line 2\u001b[0m\n\u001b[0;32m      1\u001b[0m \u001b[38;5;66;03m# Create the validation set\u001b[39;00m\n\u001b[1;32m----> 2\u001b[0m val_ds \u001b[38;5;241m=\u001b[39m tf\u001b[38;5;241m.\u001b[39mdata\u001b[38;5;241m.\u001b[39mDataset\u001b[38;5;241m.\u001b[39mfrom_generator(\u001b[43mFrameGenerator\u001b[49m(training\u001b[38;5;241m=\u001b[39m\u001b[38;5;28;01mFalse\u001b[39;00m),\n\u001b[0;32m      3\u001b[0m                                         output_signature \u001b[38;5;241m=\u001b[39m output_signature)\n",
      "\u001b[1;31mNameError\u001b[0m: name 'FrameGenerator' is not defined"
     ]
    }
   ],
   "source": [
    "# Create the validation set\n",
    "val_ds = tf.data.Dataset.from_generator(FrameGenerator(training=False),\n",
    "                                        output_signature = output_signature)"
   ]
  },
  {
   "cell_type": "code",
   "execution_count": 9,
   "id": "f35d6a9f",
   "metadata": {},
   "outputs": [],
   "source": [
    "AUTOTUNE = tf.data.AUTOTUNE\n",
    "\n",
    "train_ds = train_ds.cache().shuffle(100).prefetch(buffer_size = AUTOTUNE)\n",
    "val_ds = val_ds.cache().shuffle(100).prefetch(buffer_size = AUTOTUNE)"
   ]
  },
  {
   "cell_type": "code",
   "execution_count": 10,
   "id": "b9154c3b",
   "metadata": {},
   "outputs": [
    {
     "name": "stdout",
     "output_type": "stream",
     "text": [
      "Shape of training set of frames: (8, 512, 512, 3)\n",
      "Shape of training labels: (8,)\n",
      "Shape of validation set of frames: (8, 512, 512, 3)\n",
      "Shape of validation labels: (8,)\n"
     ]
    }
   ],
   "source": [
    "# Print the shapes of the data\n",
    "train_frames, train_labels = next(iter(train_ds))\n",
    "print(f'Shape of training set of frames: {train_frames.shape}')\n",
    "print(f'Shape of training labels: {train_labels.shape}')\n",
    "\n",
    "val_frames, val_labels = next(iter(val_ds))\n",
    "print(f'Shape of validation set of frames: {val_frames.shape}')\n",
    "print(f'Shape of validation labels: {val_labels.shape}')"
   ]
  },
  {
   "cell_type": "code",
   "execution_count": 11,
   "id": "7091491b",
   "metadata": {},
   "outputs": [
    {
     "name": "stdout",
     "output_type": "stream",
     "text": [
      "Shape of training set of frames: (8, 512, 512, 3)\n",
      "Shape of training labels: (8,)\n",
      "Shape of validation set of frames: (8, 512, 512, 3)\n",
      "Shape of validation labels: (8,)\n"
     ]
    }
   ],
   "source": [
    "train_ds = train_ds.batch(2).unbatch()\n",
    "val_ds = val_ds.batch(2).unbatch()\n",
    "\n",
    "train_frames, train_labels = next(iter(train_ds))\n",
    "print(f'Shape of training set of frames: {train_frames.shape}')\n",
    "print(f'Shape of training labels: {train_labels.shape}')\n",
    "\n",
    "val_frames, val_labels = next(iter(val_ds))\n",
    "print(f'Shape of validation set of frames: {val_frames.shape}')\n",
    "print(f'Shape of validation labels: {val_labels.shape}')"
   ]
  },
  {
   "cell_type": "code",
   "execution_count": null,
   "id": "8a975088-42af-4723-acca-75a8e8fabd62",
   "metadata": {},
   "outputs": [
    {
     "data": {
      "text/plain": [
       "array(<BatchDataset element_spec=(TensorSpec(shape=(None, None, 512, 512, 3), dtype=tf.float32, name=None), TensorSpec(shape=(None, None), dtype=tf.int32, name=None))>,\n",
       "      dtype=object)"
      ]
     },
     "execution_count": 50,
     "metadata": {},
     "output_type": "execute_result"
    }
   ],
   "source": [
    "# Eelvileg emiatt omlik ossze a program\n",
    "# Átalakítás numpy tömbökké\n",
    "train_ds = np.array(train_ds) \n",
    "val_ds = np.array(val_ds) \n",
    "\n",
    "train_ds"
   ]
  },
  {
   "cell_type": "code",
   "execution_count": 22,
   "id": "dc42f9b4",
   "metadata": {},
   "outputs": [
    {
     "ename": "NameError",
     "evalue": "name 'num_classes' is not defined",
     "output_type": "error",
     "traceback": [
      "\u001b[1;31m---------------------------------------------------------------------------\u001b[0m",
      "\u001b[1;31mNameError\u001b[0m                                 Traceback (most recent call last)",
      "Cell \u001b[1;32mIn[22], line 1\u001b[0m\n\u001b[1;32m----> 1\u001b[0m train_labels \u001b[38;5;241m=\u001b[39m to_categorical(train_labels, \u001b[43mnum_classes\u001b[49m)  \u001b[38;5;66;03m# One-hot encoding\u001b[39;00m\n\u001b[0;32m      2\u001b[0m test_labels \u001b[38;5;241m=\u001b[39m to_categorical(test_labels, num_classes)\n",
      "\u001b[1;31mNameError\u001b[0m: name 'num_classes' is not defined"
     ]
    }
   ],
   "source": [
    "\n",
    "train_labels = to_categorical(train_labels, num_classes)  # One-hot encoding\n",
    "test_labels = to_categorical(test_labels, num_classes)"
   ]
  },
  {
   "cell_type": "markdown",
   "id": "c0785190",
   "metadata": {},
   "source": []
  },
  {
   "cell_type": "code",
   "execution_count": 13,
   "id": "1ff0df3b",
   "metadata": {},
   "outputs": [
    {
     "name": "stdout",
     "output_type": "stream",
     "text": [
      "tf.Tensor(16, shape=(), dtype=int32)\n"
     ]
    }
   ],
   "source": [
    "\n",
    "print(train_labels[0])\n"
   ]
  },
  {
   "cell_type": "code",
   "execution_count": 23,
   "id": "d56db2e3",
   "metadata": {},
   "outputs": [
    {
     "ename": "ValueError",
     "evalue": "Attempt to convert a value (<_UnbatchDataset element_spec=(TensorSpec(shape=(None, 512, 512, 3), dtype=tf.float32, name=None), TensorSpec(shape=(None,), dtype=tf.int32, name=None))>) with an unsupported type (<class 'tensorflow.python.data.ops.dataset_ops._UnbatchDataset'>) to a Tensor.",
     "output_type": "error",
     "traceback": [
      "\u001b[1;31m---------------------------------------------------------------------------\u001b[0m",
      "\u001b[1;31mValueError\u001b[0m                                Traceback (most recent call last)",
      "Cell \u001b[1;32mIn[23], line 1\u001b[0m\n\u001b[1;32m----> 1\u001b[0m train_ds \u001b[38;5;241m=\u001b[39m tf\u001b[38;5;241m.\u001b[39mdata\u001b[38;5;241m.\u001b[39mDataset\u001b[38;5;241m.\u001b[39mfrom_tensor_slices((\u001b[43mtf\u001b[49m\u001b[38;5;241;43m.\u001b[39;49m\u001b[43mconvert_to_tensor\u001b[49m\u001b[43m(\u001b[49m\u001b[43mtrain_ds\u001b[49m\u001b[43m,\u001b[49m\u001b[43m \u001b[49m\u001b[43mdtype\u001b[49m\u001b[38;5;241;43m=\u001b[39;49m\u001b[43mtf\u001b[49m\u001b[38;5;241;43m.\u001b[39;49m\u001b[43mfloat32\u001b[49m\u001b[43m)\u001b[49m))\n\u001b[0;32m      2\u001b[0m val_ds \u001b[38;5;241m=\u001b[39m tf\u001b[38;5;241m.\u001b[39mdata\u001b[38;5;241m.\u001b[39mDataset\u001b[38;5;241m.\u001b[39mfrom_tensor_slices((tf\u001b[38;5;241m.\u001b[39mconvert_to_tensor(val_ds, dtype\u001b[38;5;241m=\u001b[39mtf\u001b[38;5;241m.\u001b[39mfloat32)))\n\u001b[0;32m      4\u001b[0m train_loader \u001b[38;5;241m=\u001b[39m train_ds\u001b[38;5;241m.\u001b[39mbatch(batch_size, drop_remainder\u001b[38;5;241m=\u001b[39m\u001b[38;5;28;01mTrue\u001b[39;00m) \u001b[38;5;66;03m# .shuffle(buffer_size=len(train_images))\u001b[39;00m\n",
      "File \u001b[1;32mc:\\Users\\fabia\\anaconda3\\envs\\tf_env\\lib\\site-packages\\tensorflow\\python\\util\\traceback_utils.py:153\u001b[0m, in \u001b[0;36mfilter_traceback.<locals>.error_handler\u001b[1;34m(*args, **kwargs)\u001b[0m\n\u001b[0;32m    151\u001b[0m \u001b[38;5;28;01mexcept\u001b[39;00m \u001b[38;5;167;01mException\u001b[39;00m \u001b[38;5;28;01mas\u001b[39;00m e:\n\u001b[0;32m    152\u001b[0m   filtered_tb \u001b[38;5;241m=\u001b[39m _process_traceback_frames(e\u001b[38;5;241m.\u001b[39m__traceback__)\n\u001b[1;32m--> 153\u001b[0m   \u001b[38;5;28;01mraise\u001b[39;00m e\u001b[38;5;241m.\u001b[39mwith_traceback(filtered_tb) \u001b[38;5;28;01mfrom\u001b[39;00m\u001b[38;5;250m \u001b[39m\u001b[38;5;28;01mNone\u001b[39;00m\n\u001b[0;32m    154\u001b[0m \u001b[38;5;28;01mfinally\u001b[39;00m:\n\u001b[0;32m    155\u001b[0m   \u001b[38;5;28;01mdel\u001b[39;00m filtered_tb\n",
      "File \u001b[1;32mc:\\Users\\fabia\\anaconda3\\envs\\tf_env\\lib\\site-packages\\tensorflow\\python\\framework\\constant_op.py:102\u001b[0m, in \u001b[0;36mconvert_to_eager_tensor\u001b[1;34m(value, ctx, dtype)\u001b[0m\n\u001b[0;32m    100\u001b[0m     dtype \u001b[38;5;241m=\u001b[39m dtypes\u001b[38;5;241m.\u001b[39mas_dtype(dtype)\u001b[38;5;241m.\u001b[39mas_datatype_enum\n\u001b[0;32m    101\u001b[0m ctx\u001b[38;5;241m.\u001b[39mensure_initialized()\n\u001b[1;32m--> 102\u001b[0m \u001b[38;5;28;01mreturn\u001b[39;00m \u001b[43mops\u001b[49m\u001b[38;5;241;43m.\u001b[39;49m\u001b[43mEagerTensor\u001b[49m\u001b[43m(\u001b[49m\u001b[43mvalue\u001b[49m\u001b[43m,\u001b[49m\u001b[43m \u001b[49m\u001b[43mctx\u001b[49m\u001b[38;5;241;43m.\u001b[39;49m\u001b[43mdevice_name\u001b[49m\u001b[43m,\u001b[49m\u001b[43m \u001b[49m\u001b[43mdtype\u001b[49m\u001b[43m)\u001b[49m\n",
      "\u001b[1;31mValueError\u001b[0m: Attempt to convert a value (<_UnbatchDataset element_spec=(TensorSpec(shape=(None, 512, 512, 3), dtype=tf.float32, name=None), TensorSpec(shape=(None,), dtype=tf.int32, name=None))>) with an unsupported type (<class 'tensorflow.python.data.ops.dataset_ops._UnbatchDataset'>) to a Tensor."
     ]
    }
   ],
   "source": [
    "\n",
    "train_ds = tf.data.Dataset.from_tensor_slices((tf.convert_to_tensor(train_ds, dtype=tf.float32)))\n",
    "val_ds = tf.data.Dataset.from_tensor_slices((tf.convert_to_tensor(val_ds, dtype=tf.float32)))\n",
    "\n",
    "train_loader = train_ds.batch(batch_size, drop_remainder=True) # .shuffle(buffer_size=len(train_images))\n",
    "val_loader = val_ds.batch(batch_size, drop_remainder=True) # .shuffle(buffer_size=len(test_images))\n",
    "\n"
   ]
  },
  {
   "cell_type": "code",
   "execution_count": null,
   "id": "7e74b022",
   "metadata": {},
   "outputs": [],
   "source": [
    "def dataset_to_numpy(dataset):\n",
    "    images = []\n",
    "    labels = []\n",
    "    for image_batch, label_batch in dataset:\n",
    "        images.append(image_batch.numpy())\n",
    "        labels.append(label_batch.numpy())\n",
    "    return np.concatenate(images), np.concatenate(labels)\n",
    "\n",
    "# Extract images and labels as numpy arrays\n",
    "#EZ IS BAJ ELVILEG\n",
    "train_images, train_labels = dataset_to_numpy(train_ds.batch(8))\n",
    "\n",
    "val_images, val_labels = dataset_to_numpy(val_ds.batch(8))\n",
    "\n",
    "# Create datasets using from_tensor_slices\n",
    "\n",
    "# train_ds_new = tf.data.Dataset.from_tensor_slices((train_images, train_labels))\n",
    "# val_ds_new = tf.data.Dataset.from_tensor_slices((val_images, val_labels))\n",
    "\n",
    "# del train_ds_new\n",
    "# del val_ds_new\n",
    "\n",
    "# Create data loaders with batching\n",
    "# train_loader = train_ds_new.batch(batch_size, drop_remainder=True)\n",
    "# val_loader = val_ds_new.batch(batch_size, drop_remainder=True)\n",
    "\n",
    "# Add shuffling to training data\n",
    "\n",
    "buffer_size = 16  \n",
    "# train_loader = train_loader.shuffle(buffer_size=buffer_size)\n"
   ]
  },
  {
   "cell_type": "code",
   "execution_count": 1,
   "id": "42293943",
   "metadata": {},
   "outputs": [
    {
     "ename": "NameError",
     "evalue": "name 'train_ds' is not defined",
     "output_type": "error",
     "traceback": [
      "\u001b[1;31m---------------------------------------------------------------------------\u001b[0m",
      "\u001b[1;31mNameError\u001b[0m                                 Traceback (most recent call last)",
      "Cell \u001b[1;32mIn[1], line 1\u001b[0m\n\u001b[1;32m----> 1\u001b[0m train_loader_alt \u001b[38;5;241m=\u001b[39m \u001b[43mtrain_ds\u001b[49m\u001b[38;5;241m.\u001b[39mbatch(batch_size, drop_remainder\u001b[38;5;241m=\u001b[39m\u001b[38;5;28;01mTrue\u001b[39;00m)\n\u001b[0;32m      2\u001b[0m val_loader_alt \u001b[38;5;241m=\u001b[39m val_ds\u001b[38;5;241m.\u001b[39mbatch(batch_size, drop_remainder\u001b[38;5;241m=\u001b[39m\u001b[38;5;28;01mTrue\u001b[39;00m)\n",
      "\u001b[1;31mNameError\u001b[0m: name 'train_ds' is not defined"
     ]
    }
   ],
   "source": [
    "train_loader_alt = train_ds.batch(batch_size, drop_remainder=True)\n",
    "val_loader_alt = val_ds.batch(batch_size, drop_remainder=True)"
   ]
  },
  {
   "cell_type": "code",
   "execution_count": null,
   "id": "047c037b",
   "metadata": {},
   "outputs": [
    {
     "ename": "NameError",
     "evalue": "name 'batch_size' is not defined",
     "output_type": "error",
     "traceback": [
      "\u001b[1;31m---------------------------------------------------------------------------\u001b[0m",
      "\u001b[1;31mNameError\u001b[0m                                 Traceback (most recent call last)",
      "Cell \u001b[1;32mIn[6], line 38\u001b[0m\n\u001b[0;32m     34\u001b[0m         \u001b[38;5;66;03m#     x = layer(x)\u001b[39;00m\n\u001b[0;32m     36\u001b[0m         \u001b[38;5;28;01mreturn\u001b[39;00m \u001b[38;5;28mself\u001b[39m\u001b[38;5;241m.\u001b[39moutput_layer(x)\n\u001b[1;32m---> 38\u001b[0m model \u001b[38;5;241m=\u001b[39m \u001b[43mNet\u001b[49m\u001b[43m(\u001b[49m\u001b[43m)\u001b[49m\n",
      "Cell \u001b[1;32mIn[6], line 6\u001b[0m, in \u001b[0;36mNet.__init__\u001b[1;34m(self)\u001b[0m\n\u001b[0;32m      2\u001b[0m \u001b[38;5;28;01mdef\u001b[39;00m\u001b[38;5;250m \u001b[39m\u001b[38;5;21m__init__\u001b[39m(\u001b[38;5;28mself\u001b[39m):\n\u001b[0;32m      3\u001b[0m     \u001b[38;5;28msuper\u001b[39m(Net, \u001b[38;5;28mself\u001b[39m)\u001b[38;5;241m.\u001b[39m\u001b[38;5;21m__init__\u001b[39m()\n\u001b[0;32m      5\u001b[0m     \u001b[38;5;28mself\u001b[39m\u001b[38;5;241m.\u001b[39minput_layer \u001b[38;5;241m=\u001b[39m tf\u001b[38;5;241m.\u001b[39mkeras\u001b[38;5;241m.\u001b[39mlayers\u001b[38;5;241m.\u001b[39mDense(\n\u001b[1;32m----> 6\u001b[0m         input_shape\u001b[38;5;241m=\u001b[39m(\u001b[43mbatch_size\u001b[49m, IMG_SIZE, IMG_SIZE, \u001b[38;5;241m3\u001b[39m), \n\u001b[0;32m      7\u001b[0m         units\u001b[38;5;241m=\u001b[39m\u001b[38;5;241m256\u001b[39m,\n\u001b[0;32m      8\u001b[0m         activation\u001b[38;5;241m=\u001b[39mactivation_func\n\u001b[0;32m      9\u001b[0m     )\n\u001b[0;32m     11\u001b[0m     \u001b[38;5;66;03m# self.feature_extractor = []\u001b[39;00m\n\u001b[0;32m     12\u001b[0m     \u001b[38;5;66;03m# for i in range(5):\u001b[39;00m\n\u001b[0;32m     13\u001b[0m     \u001b[38;5;66;03m#     self.hidden_layers.append(tf.keras.layers.Dense(2048, activation=activation_func))\u001b[39;00m\n\u001b[0;32m     14\u001b[0m     \u001b[38;5;66;03m#     self.hidden_layers.append(tf.keras.layers.Dropout(0.2))\u001b[39;00m\n\u001b[0;32m     16\u001b[0m     \u001b[38;5;28mself\u001b[39m\u001b[38;5;241m.\u001b[39mhidden_layers \u001b[38;5;241m=\u001b[39m []\n",
      "\u001b[1;31mNameError\u001b[0m: name 'batch_size' is not defined"
     ]
    }
   ],
   "source": [
    "\n",
    "class Net(tf.keras.Model):\n",
    "    def __init__(self):\n",
    "        super(Net, self).__init__()\n",
    "\n",
    "        self.input_layer = tf.keras.layers.Dense(\n",
    "            input_shape=(batch_size, IMG_SIZE, IMG_SIZE, 3), \n",
    "            units=256,\n",
    "            activation=activation_func\n",
    "        )\n",
    "\n",
    "        # self.feature_extractor = []\n",
    "        # for i in range(5):\n",
    "        #     self.hidden_layers.append(tf.keras.layers.Dense(2048, activation=activation_func))\n",
    "        #     self.hidden_layers.append(tf.keras.layers.Dropout(0.2))\n",
    "\n",
    "        self.hidden_layers = []\n",
    "        for i in range(2):\n",
    "            self.hidden_layers.append(tf.keras.layers.Dense(256, activation=activation_func))\n",
    "            self.hidden_layers.append(tf.keras.layers.Dropout(0.2))\n",
    "            self.hidden_layers.append(tf.keras.layers.BatchNormalization())\n",
    "\n",
    "        # self.additional_layers = []\n",
    "        # for i in range(2):\n",
    "        #     self.additional_layers.append(tf.keras.layers.Dense(256, activation=activation_func))\n",
    "        #     self.additional_layers.append(tf.keras.layers.Dropout(0.2))\n",
    "        self.output_layer = tf.keras.layers.Dense(NUM_CLASSES), activation='softmax')\n",
    "\n",
    "    def call(self, x):\n",
    "        x = self.input_layer(x)\n",
    "        # for layer in self.feature_extractor:\n",
    "        #     x = layer(x)\n",
    "        for layer in self.hidden_layers:\n",
    "            x = layer(x)# for layer in self.additional_layers:\n",
    "        #     x = layer(x)\n",
    "\n",
    "        return self.output_layer(x)\n",
    "    \n",
    "model = Net()"
   ]
  },
  {
   "cell_type": "code",
   "execution_count": null,
   "id": "3b0b1dfa",
   "metadata": {},
   "outputs": [],
   "source": [
    "model.compile(optimizer=optimizer, loss=criterion, metrics=['accuracy'])"
   ]
  },
  {
   "cell_type": "code",
   "execution_count": null,
   "id": "48606abd",
   "metadata": {},
   "outputs": [
    {
     "name": "stdout",
     "output_type": "stream",
     "text": [
      "Epoch 1/5\n"
     ]
    },
    {
     "ename": "ValueError",
     "evalue": "in user code:\n\n    File \"c:\\Users\\fabia\\anaconda3\\envs\\tf_env\\lib\\site-packages\\keras\\engine\\training.py\", line 1160, in train_function  *\n        return step_function(self, iterator)\n    File \"c:\\Users\\fabia\\anaconda3\\envs\\tf_env\\lib\\site-packages\\keras\\engine\\training.py\", line 1146, in step_function  **\n        outputs = model.distribute_strategy.run(run_step, args=(data,))\n    File \"c:\\Users\\fabia\\anaconda3\\envs\\tf_env\\lib\\site-packages\\keras\\engine\\training.py\", line 1135, in run_step  **\n        outputs = model.train_step(data)\n    File \"c:\\Users\\fabia\\anaconda3\\envs\\tf_env\\lib\\site-packages\\keras\\engine\\training.py\", line 993, in train_step\n        y_pred = self(x, training=True)\n    File \"c:\\Users\\fabia\\anaconda3\\envs\\tf_env\\lib\\site-packages\\keras\\utils\\traceback_utils.py\", line 70, in error_handler\n        raise e.with_traceback(filtered_tb) from None\n    File \"C:\\Users\\fabia\\AppData\\Local\\Temp\\__autograph_generated_filer493t7fb.py\", line 24, in tf__call\n        ag__.for_stmt(ag__.ld(self).hidden_layers, None, loop_body, get_state, set_state, ('x',), {'iterate_names': 'layer'})\n    File \"C:\\Users\\fabia\\AppData\\Local\\Temp\\__autograph_generated_filer493t7fb.py\", line 22, in loop_body\n        x = ag__.converted_call(ag__.ld(layer), (ag__.ld(x),), None, fscope)\n\n    ValueError: Exception encountered when calling layer \"net_3\" \"                 f\"(type Net).\n    \n    in user code:\n    \n        File \"C:\\Users\\fabia\\AppData\\Local\\Temp\\ipykernel_4900\\3739073957.py\", line 33, in call  *\n            x = layer(x)# for layer in self.additional_layers:\n        File \"c:\\Users\\fabia\\anaconda3\\envs\\tf_env\\lib\\site-packages\\keras\\utils\\traceback_utils.py\", line 70, in error_handler  **\n            raise e.with_traceback(filtered_tb) from None\n        File \"c:\\Users\\fabia\\anaconda3\\envs\\tf_env\\lib\\site-packages\\keras\\engine\\input_spec.py\", line 232, in assert_input_compatibility\n            raise ValueError(\n    \n        ValueError: Input 0 of layer \"batch_normalization_16\" is incompatible with the layer: expected ndim=5, found ndim=4. Full shape received: (None, 512, 512, 256)\n    \n    \n    Call arguments received by layer \"net_3\" \"                 f\"(type Net):\n      • x=tf.Tensor(shape=(None, 512, 512, 3), dtype=float32)\n",
     "output_type": "error",
     "traceback": [
      "\u001b[1;31m---------------------------------------------------------------------------\u001b[0m",
      "\u001b[1;31mValueError\u001b[0m                                Traceback (most recent call last)",
      "Cell \u001b[1;32mIn[21], line 6\u001b[0m\n\u001b[0;32m      3\u001b[0m val_loader \u001b[38;5;241m=\u001b[39m val_loader\u001b[38;5;241m.\u001b[39mmap(\u001b[38;5;28;01mlambda\u001b[39;00m x, y: (tf\u001b[38;5;241m.\u001b[39mreshape(x, [\u001b[38;5;241m-\u001b[39m\u001b[38;5;241m1\u001b[39m, IMG_SIZE, IMG_SIZE, \u001b[38;5;241m3\u001b[39m]), tf\u001b[38;5;241m.\u001b[39mreshape(y, [\u001b[38;5;241m-\u001b[39m\u001b[38;5;241m1\u001b[39m, \u001b[38;5;28mlen\u001b[39m(class_names)])))\n\u001b[0;32m      5\u001b[0m \u001b[38;5;66;03m# Train the model\u001b[39;00m\n\u001b[1;32m----> 6\u001b[0m \u001b[43mmodel\u001b[49m\u001b[38;5;241;43m.\u001b[39;49m\u001b[43mfit\u001b[49m\u001b[43m(\u001b[49m\u001b[43mtrain_loader\u001b[49m\u001b[43m,\u001b[49m\u001b[43m \u001b[49m\u001b[43mepochs\u001b[49m\u001b[38;5;241;43m=\u001b[39;49m\u001b[43mnum_epochs\u001b[49m\u001b[43m,\u001b[49m\u001b[43m \u001b[49m\u001b[43mvalidation_data\u001b[49m\u001b[38;5;241;43m=\u001b[39;49m\u001b[43mval_loader\u001b[49m\u001b[43m,\u001b[49m\u001b[43m \u001b[49m\u001b[43mverbose\u001b[49m\u001b[38;5;241;43m=\u001b[39;49m\u001b[38;5;241;43m1\u001b[39;49m\u001b[43m)\u001b[49m\n",
      "File \u001b[1;32mc:\\Users\\fabia\\anaconda3\\envs\\tf_env\\lib\\site-packages\\keras\\utils\\traceback_utils.py:70\u001b[0m, in \u001b[0;36mfilter_traceback.<locals>.error_handler\u001b[1;34m(*args, **kwargs)\u001b[0m\n\u001b[0;32m     67\u001b[0m     filtered_tb \u001b[38;5;241m=\u001b[39m _process_traceback_frames(e\u001b[38;5;241m.\u001b[39m__traceback__)\n\u001b[0;32m     68\u001b[0m     \u001b[38;5;66;03m# To get the full stack trace, call:\u001b[39;00m\n\u001b[0;32m     69\u001b[0m     \u001b[38;5;66;03m# `tf.debugging.disable_traceback_filtering()`\u001b[39;00m\n\u001b[1;32m---> 70\u001b[0m     \u001b[38;5;28;01mraise\u001b[39;00m e\u001b[38;5;241m.\u001b[39mwith_traceback(filtered_tb) \u001b[38;5;28;01mfrom\u001b[39;00m\u001b[38;5;250m \u001b[39m\u001b[38;5;28;01mNone\u001b[39;00m\n\u001b[0;32m     71\u001b[0m \u001b[38;5;28;01mfinally\u001b[39;00m:\n\u001b[0;32m     72\u001b[0m     \u001b[38;5;28;01mdel\u001b[39;00m filtered_tb\n",
      "File \u001b[1;32m~\\AppData\\Local\\Temp\\__autograph_generated_filei5z9n1h8.py:15\u001b[0m, in \u001b[0;36mouter_factory.<locals>.inner_factory.<locals>.tf__train_function\u001b[1;34m(iterator)\u001b[0m\n\u001b[0;32m     13\u001b[0m \u001b[38;5;28;01mtry\u001b[39;00m:\n\u001b[0;32m     14\u001b[0m     do_return \u001b[38;5;241m=\u001b[39m \u001b[38;5;28;01mTrue\u001b[39;00m\n\u001b[1;32m---> 15\u001b[0m     retval_ \u001b[38;5;241m=\u001b[39m ag__\u001b[38;5;241m.\u001b[39mconverted_call(ag__\u001b[38;5;241m.\u001b[39mld(step_function), (ag__\u001b[38;5;241m.\u001b[39mld(\u001b[38;5;28mself\u001b[39m), ag__\u001b[38;5;241m.\u001b[39mld(iterator)), \u001b[38;5;28;01mNone\u001b[39;00m, fscope)\n\u001b[0;32m     16\u001b[0m \u001b[38;5;28;01mexcept\u001b[39;00m:\n\u001b[0;32m     17\u001b[0m     do_return \u001b[38;5;241m=\u001b[39m \u001b[38;5;28;01mFalse\u001b[39;00m\n",
      "File \u001b[1;32m~\\AppData\\Local\\Temp\\__autograph_generated_filer493t7fb.py:24\u001b[0m, in \u001b[0;36mouter_factory.<locals>.inner_factory.<locals>.tf__call\u001b[1;34m(self, x)\u001b[0m\n\u001b[0;32m     22\u001b[0m     x \u001b[38;5;241m=\u001b[39m ag__\u001b[38;5;241m.\u001b[39mconverted_call(ag__\u001b[38;5;241m.\u001b[39mld(layer), (ag__\u001b[38;5;241m.\u001b[39mld(x),), \u001b[38;5;28;01mNone\u001b[39;00m, fscope)\n\u001b[0;32m     23\u001b[0m layer \u001b[38;5;241m=\u001b[39m ag__\u001b[38;5;241m.\u001b[39mUndefined(\u001b[38;5;124m'\u001b[39m\u001b[38;5;124mlayer\u001b[39m\u001b[38;5;124m'\u001b[39m)\n\u001b[1;32m---> 24\u001b[0m ag__\u001b[38;5;241m.\u001b[39mfor_stmt(ag__\u001b[38;5;241m.\u001b[39mld(\u001b[38;5;28mself\u001b[39m)\u001b[38;5;241m.\u001b[39mhidden_layers, \u001b[38;5;28;01mNone\u001b[39;00m, loop_body, get_state, set_state, (\u001b[38;5;124m'\u001b[39m\u001b[38;5;124mx\u001b[39m\u001b[38;5;124m'\u001b[39m,), {\u001b[38;5;124m'\u001b[39m\u001b[38;5;124miterate_names\u001b[39m\u001b[38;5;124m'\u001b[39m: \u001b[38;5;124m'\u001b[39m\u001b[38;5;124mlayer\u001b[39m\u001b[38;5;124m'\u001b[39m})\n\u001b[0;32m     25\u001b[0m \u001b[38;5;28;01mtry\u001b[39;00m:\n\u001b[0;32m     26\u001b[0m     do_return \u001b[38;5;241m=\u001b[39m \u001b[38;5;28;01mTrue\u001b[39;00m\n",
      "File \u001b[1;32m~\\AppData\\Local\\Temp\\__autograph_generated_filer493t7fb.py:22\u001b[0m, in \u001b[0;36mouter_factory.<locals>.inner_factory.<locals>.tf__call.<locals>.loop_body\u001b[1;34m(itr)\u001b[0m\n\u001b[0;32m     20\u001b[0m \u001b[38;5;28;01mnonlocal\u001b[39;00m x\n\u001b[0;32m     21\u001b[0m layer \u001b[38;5;241m=\u001b[39m itr\n\u001b[1;32m---> 22\u001b[0m x \u001b[38;5;241m=\u001b[39m \u001b[43mag__\u001b[49m\u001b[38;5;241;43m.\u001b[39;49m\u001b[43mconverted_call\u001b[49m\u001b[43m(\u001b[49m\u001b[43mag__\u001b[49m\u001b[38;5;241;43m.\u001b[39;49m\u001b[43mld\u001b[49m\u001b[43m(\u001b[49m\u001b[43mlayer\u001b[49m\u001b[43m)\u001b[49m\u001b[43m,\u001b[49m\u001b[43m \u001b[49m\u001b[43m(\u001b[49m\u001b[43mag__\u001b[49m\u001b[38;5;241;43m.\u001b[39;49m\u001b[43mld\u001b[49m\u001b[43m(\u001b[49m\u001b[43mx\u001b[49m\u001b[43m)\u001b[49m\u001b[43m,\u001b[49m\u001b[43m)\u001b[49m\u001b[43m,\u001b[49m\u001b[43m \u001b[49m\u001b[38;5;28;43;01mNone\u001b[39;49;00m\u001b[43m,\u001b[49m\u001b[43m \u001b[49m\u001b[43mfscope\u001b[49m\u001b[43m)\u001b[49m\n",
      "\u001b[1;31mValueError\u001b[0m: in user code:\n\n    File \"c:\\Users\\fabia\\anaconda3\\envs\\tf_env\\lib\\site-packages\\keras\\engine\\training.py\", line 1160, in train_function  *\n        return step_function(self, iterator)\n    File \"c:\\Users\\fabia\\anaconda3\\envs\\tf_env\\lib\\site-packages\\keras\\engine\\training.py\", line 1146, in step_function  **\n        outputs = model.distribute_strategy.run(run_step, args=(data,))\n    File \"c:\\Users\\fabia\\anaconda3\\envs\\tf_env\\lib\\site-packages\\keras\\engine\\training.py\", line 1135, in run_step  **\n        outputs = model.train_step(data)\n    File \"c:\\Users\\fabia\\anaconda3\\envs\\tf_env\\lib\\site-packages\\keras\\engine\\training.py\", line 993, in train_step\n        y_pred = self(x, training=True)\n    File \"c:\\Users\\fabia\\anaconda3\\envs\\tf_env\\lib\\site-packages\\keras\\utils\\traceback_utils.py\", line 70, in error_handler\n        raise e.with_traceback(filtered_tb) from None\n    File \"C:\\Users\\fabia\\AppData\\Local\\Temp\\__autograph_generated_filer493t7fb.py\", line 24, in tf__call\n        ag__.for_stmt(ag__.ld(self).hidden_layers, None, loop_body, get_state, set_state, ('x',), {'iterate_names': 'layer'})\n    File \"C:\\Users\\fabia\\AppData\\Local\\Temp\\__autograph_generated_filer493t7fb.py\", line 22, in loop_body\n        x = ag__.converted_call(ag__.ld(layer), (ag__.ld(x),), None, fscope)\n\n    ValueError: Exception encountered when calling layer \"net_3\" \"                 f\"(type Net).\n    \n    in user code:\n    \n        File \"C:\\Users\\fabia\\AppData\\Local\\Temp\\ipykernel_4900\\3739073957.py\", line 33, in call  *\n            x = layer(x)# for layer in self.additional_layers:\n        File \"c:\\Users\\fabia\\anaconda3\\envs\\tf_env\\lib\\site-packages\\keras\\utils\\traceback_utils.py\", line 70, in error_handler  **\n            raise e.with_traceback(filtered_tb) from None\n        File \"c:\\Users\\fabia\\anaconda3\\envs\\tf_env\\lib\\site-packages\\keras\\engine\\input_spec.py\", line 232, in assert_input_compatibility\n            raise ValueError(\n    \n        ValueError: Input 0 of layer \"batch_normalization_16\" is incompatible with the layer: expected ndim=5, found ndim=4. Full shape received: (None, 512, 512, 256)\n    \n    \n    Call arguments received by layer \"net_3\" \"                 f\"(type Net):\n      • x=tf.Tensor(shape=(None, 512, 512, 3), dtype=float32)\n"
     ]
    }
   ],
   "source": [
    "# Train the model\n",
    "model.fit(train_loader, epochs=num_epochs, validation_data=val_loader, verbose=1)"
   ]
  },
  {
   "cell_type": "code",
   "execution_count": null,
   "id": "f7833373",
   "metadata": {},
   "outputs": [
    {
     "name": "stdout",
     "output_type": "stream",
     "text": [
      "Epoch 1/5\n"
     ]
    },
    {
     "ename": "ResourceExhaustedError",
     "evalue": "Exception encountered when calling layer \"dense_21\" \"                 f\"(type Dense).\n\n{{function_node __wrapped__MatMul_device_/job:localhost/replica:0/task:0/device:GPU:0}} OOM when allocating tensor with shape[16777216,256] and type float on /job:localhost/replica:0/task:0/device:GPU:0 by allocator GPU_0_bfc [Op:MatMul]\n\nCall arguments received by layer \"dense_21\" \"                 f\"(type Dense):\n  • inputs=tf.Tensor(shape=(8, 8, 512, 512, 3), dtype=float32)",
     "output_type": "error",
     "traceback": [
      "\u001b[1;31m---------------------------------------------------------------------------\u001b[0m",
      "\u001b[1;31mResourceExhaustedError\u001b[0m                    Traceback (most recent call last)",
      "Cell \u001b[1;32mIn[14], line 14\u001b[0m\n\u001b[0;32m     12\u001b[0m \u001b[38;5;28;01mfor\u001b[39;00m step, (batch_x, batch_y) \u001b[38;5;129;01min\u001b[39;00m \u001b[38;5;28menumerate\u001b[39m(train_loader):\n\u001b[0;32m     13\u001b[0m     \u001b[38;5;28;01mwith\u001b[39;00m tf\u001b[38;5;241m.\u001b[39mGradientTape() \u001b[38;5;28;01mas\u001b[39;00m tape:\n\u001b[1;32m---> 14\u001b[0m         outputs \u001b[38;5;241m=\u001b[39m \u001b[43mmodel\u001b[49m\u001b[43m(\u001b[49m\u001b[43mbatch_x\u001b[49m\u001b[43m,\u001b[49m\u001b[43m \u001b[49m\u001b[43mtraining\u001b[49m\u001b[38;5;241;43m=\u001b[39;49m\u001b[38;5;28;43;01mTrue\u001b[39;49;00m\u001b[43m)\u001b[49m\n\u001b[0;32m     15\u001b[0m         loss \u001b[38;5;241m=\u001b[39m criterion(batch_y, tf\u001b[38;5;241m.\u001b[39msqueeze(outputs))\n\u001b[0;32m     17\u001b[0m     grads \u001b[38;5;241m=\u001b[39m tape\u001b[38;5;241m.\u001b[39mgradient(loss, model\u001b[38;5;241m.\u001b[39mtrainable_weights)\n",
      "File \u001b[1;32mc:\\Users\\fabia\\anaconda3\\envs\\tf_env\\lib\\site-packages\\keras\\utils\\traceback_utils.py:70\u001b[0m, in \u001b[0;36mfilter_traceback.<locals>.error_handler\u001b[1;34m(*args, **kwargs)\u001b[0m\n\u001b[0;32m     67\u001b[0m     filtered_tb \u001b[38;5;241m=\u001b[39m _process_traceback_frames(e\u001b[38;5;241m.\u001b[39m__traceback__)\n\u001b[0;32m     68\u001b[0m     \u001b[38;5;66;03m# To get the full stack trace, call:\u001b[39;00m\n\u001b[0;32m     69\u001b[0m     \u001b[38;5;66;03m# `tf.debugging.disable_traceback_filtering()`\u001b[39;00m\n\u001b[1;32m---> 70\u001b[0m     \u001b[38;5;28;01mraise\u001b[39;00m e\u001b[38;5;241m.\u001b[39mwith_traceback(filtered_tb) \u001b[38;5;28;01mfrom\u001b[39;00m\u001b[38;5;250m \u001b[39m\u001b[38;5;28;01mNone\u001b[39;00m\n\u001b[0;32m     71\u001b[0m \u001b[38;5;28;01mfinally\u001b[39;00m:\n\u001b[0;32m     72\u001b[0m     \u001b[38;5;28;01mdel\u001b[39;00m filtered_tb\n",
      "Cell \u001b[1;32mIn[13], line 29\u001b[0m, in \u001b[0;36mNet.call\u001b[1;34m(self, x)\u001b[0m\n\u001b[0;32m     28\u001b[0m \u001b[38;5;28;01mdef\u001b[39;00m\u001b[38;5;250m \u001b[39m\u001b[38;5;21mcall\u001b[39m(\u001b[38;5;28mself\u001b[39m, x):\n\u001b[1;32m---> 29\u001b[0m     x \u001b[38;5;241m=\u001b[39m \u001b[38;5;28;43mself\u001b[39;49m\u001b[38;5;241;43m.\u001b[39;49m\u001b[43minput_layer\u001b[49m\u001b[43m(\u001b[49m\u001b[43mx\u001b[49m\u001b[43m)\u001b[49m\n\u001b[0;32m     30\u001b[0m     \u001b[38;5;66;03m# for layer in self.feature_extractor:\u001b[39;00m\n\u001b[0;32m     31\u001b[0m     \u001b[38;5;66;03m#     x = layer(x)\u001b[39;00m\n\u001b[0;32m     32\u001b[0m     \u001b[38;5;28;01mfor\u001b[39;00m layer \u001b[38;5;129;01min\u001b[39;00m \u001b[38;5;28mself\u001b[39m\u001b[38;5;241m.\u001b[39mhidden_layers:\n",
      "\u001b[1;31mResourceExhaustedError\u001b[0m: Exception encountered when calling layer \"dense_21\" \"                 f\"(type Dense).\n\n{{function_node __wrapped__MatMul_device_/job:localhost/replica:0/task:0/device:GPU:0}} OOM when allocating tensor with shape[16777216,256] and type float on /job:localhost/replica:0/task:0/device:GPU:0 by allocator GPU_0_bfc [Op:MatMul]\n\nCall arguments received by layer \"dense_21\" \"                 f\"(type Dense):\n  • inputs=tf.Tensor(shape=(8, 8, 512, 512, 3), dtype=float32)"
     ]
    }
   ],
   "source": [
    "train_loader = train_loader_alt\n",
    "val_loader = val_loader_alt\n",
    "\n",
    "train_losses = []\n",
    "val_losses = []\n",
    "val_accuracies = []\n",
    "\n",
    "for epoch in range(num_epochs):\n",
    "    print(f\"Epoch {epoch + 1}/{num_epochs}\")\n",
    "\n",
    "    train_loss = 0\n",
    "    for step, (batch_x, batch_y) in enumerate(train_loader):\n",
    "        with tf.GradientTape() as tape:\n",
    "            outputs = model(batch_x, training=True)\n",
    "            loss = criterion(batch_y, tf.squeeze(outputs))\n",
    "\n",
    "        grads = tape.gradient(loss, model.trainable_weights)\n",
    "        optimizer.apply_gradients(zip(grads, model.trainable_weights))\n",
    "\n",
    "        train_loss += loss.numpy()\n",
    "\n",
    "    train_losses.append(train_loss / len(train_loader))\n",
    "\n",
    "    # Validation loop\n",
    "    val_loss = 0\n",
    "    for batch_x, batch_y in val_loader:\n",
    "        outputs = model(batch_x, training=False)\n",
    "        loss = criterion(batch_y, tf.squeeze(outputs))\n",
    "        val_loss += loss.numpy()\n",
    "\n",
    "    val_losses.append(val_loss / len(val_loader))\n",
    "\n",
    "    print(\n",
    "        f\"Epoch {epoch + 1}/{num_epochs}, \"\n",
    "        f\"Train Loss: {train_loss / len(train_loader):.4f}, \"\n",
    "        f\"Validation Loss: {val_loss / len(val_loader):.4f}\"\n",
    "    )\n",
    "\n",
    "train_losses = np.array(train_losses)\n",
    "val_losses = np.array(val_losses)\n"
   ]
  },
  {
   "cell_type": "code",
   "execution_count": 36,
   "id": "89b503fe",
   "metadata": {},
   "outputs": [
    {
     "ename": "ValueError",
     "evalue": "Attempt to convert a value (<PrefetchDataset element_spec=(TensorSpec(shape=(None, 224, 224, 3), dtype=tf.float32, name=None), TensorSpec(shape=(None,), dtype=tf.int32, name=None))>) with an unsupported type (<class 'tensorflow.python.data.ops.dataset_ops.PrefetchDataset'>) to a Tensor.",
     "output_type": "error",
     "traceback": [
      "\u001b[1;31m---------------------------------------------------------------------------\u001b[0m",
      "\u001b[1;31mValueError\u001b[0m                                Traceback (most recent call last)",
      "Cell \u001b[1;32mIn[36], line 2\u001b[0m\n\u001b[0;32m      1\u001b[0m \u001b[38;5;66;03m# Making predictions\u001b[39;00m\n\u001b[1;32m----> 2\u001b[0m x_train_tensor \u001b[38;5;241m=\u001b[39m \u001b[43mtf\u001b[49m\u001b[38;5;241;43m.\u001b[39;49m\u001b[43mconvert_to_tensor\u001b[49m\u001b[43m(\u001b[49m\u001b[43mtrain_ds\u001b[49m\u001b[43m,\u001b[49m\u001b[43m \u001b[49m\u001b[43mdtype\u001b[49m\u001b[38;5;241;43m=\u001b[39;49m\u001b[43mtf\u001b[49m\u001b[38;5;241;43m.\u001b[39;49m\u001b[43mfloat32\u001b[49m\u001b[43m)\u001b[49m\n\u001b[0;32m      3\u001b[0m x_test_tensor \u001b[38;5;241m=\u001b[39m tf\u001b[38;5;241m.\u001b[39mconvert_to_tensor(val_ds, dtype\u001b[38;5;241m=\u001b[39mtf\u001b[38;5;241m.\u001b[39mfloat32)\n\u001b[0;32m      5\u001b[0m y_train_pred \u001b[38;5;241m=\u001b[39m model(x_train_tensor, training\u001b[38;5;241m=\u001b[39m\u001b[38;5;28;01mFalse\u001b[39;00m)\u001b[38;5;241m.\u001b[39mnumpy()\n",
      "File \u001b[1;32mc:\\Users\\fabia\\anaconda3\\envs\\tf_env\\lib\\site-packages\\tensorflow\\python\\util\\traceback_utils.py:153\u001b[0m, in \u001b[0;36mfilter_traceback.<locals>.error_handler\u001b[1;34m(*args, **kwargs)\u001b[0m\n\u001b[0;32m    151\u001b[0m \u001b[38;5;28;01mexcept\u001b[39;00m \u001b[38;5;167;01mException\u001b[39;00m \u001b[38;5;28;01mas\u001b[39;00m e:\n\u001b[0;32m    152\u001b[0m   filtered_tb \u001b[38;5;241m=\u001b[39m _process_traceback_frames(e\u001b[38;5;241m.\u001b[39m__traceback__)\n\u001b[1;32m--> 153\u001b[0m   \u001b[38;5;28;01mraise\u001b[39;00m e\u001b[38;5;241m.\u001b[39mwith_traceback(filtered_tb) \u001b[38;5;28;01mfrom\u001b[39;00m\u001b[38;5;250m \u001b[39m\u001b[38;5;28;01mNone\u001b[39;00m\n\u001b[0;32m    154\u001b[0m \u001b[38;5;28;01mfinally\u001b[39;00m:\n\u001b[0;32m    155\u001b[0m   \u001b[38;5;28;01mdel\u001b[39;00m filtered_tb\n",
      "File \u001b[1;32mc:\\Users\\fabia\\anaconda3\\envs\\tf_env\\lib\\site-packages\\tensorflow\\python\\framework\\constant_op.py:102\u001b[0m, in \u001b[0;36mconvert_to_eager_tensor\u001b[1;34m(value, ctx, dtype)\u001b[0m\n\u001b[0;32m    100\u001b[0m     dtype \u001b[38;5;241m=\u001b[39m dtypes\u001b[38;5;241m.\u001b[39mas_dtype(dtype)\u001b[38;5;241m.\u001b[39mas_datatype_enum\n\u001b[0;32m    101\u001b[0m ctx\u001b[38;5;241m.\u001b[39mensure_initialized()\n\u001b[1;32m--> 102\u001b[0m \u001b[38;5;28;01mreturn\u001b[39;00m \u001b[43mops\u001b[49m\u001b[38;5;241;43m.\u001b[39;49m\u001b[43mEagerTensor\u001b[49m\u001b[43m(\u001b[49m\u001b[43mvalue\u001b[49m\u001b[43m,\u001b[49m\u001b[43m \u001b[49m\u001b[43mctx\u001b[49m\u001b[38;5;241;43m.\u001b[39;49m\u001b[43mdevice_name\u001b[49m\u001b[43m,\u001b[49m\u001b[43m \u001b[49m\u001b[43mdtype\u001b[49m\u001b[43m)\u001b[49m\n",
      "\u001b[1;31mValueError\u001b[0m: Attempt to convert a value (<PrefetchDataset element_spec=(TensorSpec(shape=(None, 224, 224, 3), dtype=tf.float32, name=None), TensorSpec(shape=(None,), dtype=tf.int32, name=None))>) with an unsupported type (<class 'tensorflow.python.data.ops.dataset_ops.PrefetchDataset'>) to a Tensor."
     ]
    }
   ],
   "source": [
    "\n",
    "# Making predictions\n",
    "x_train_tensor = tf.convert_to_tensor(train_ds, dtype=tf.float32)\n",
    "x_test_tensor = tf.convert_to_tensor(val_ds, dtype=tf.float32)\n",
    "\n",
    "y_train_pred = model(x_train_tensor, training=False).numpy()\n",
    "y_test_pred = model(x_test_tensor, training=False).numpy()\n"
   ]
  },
  {
   "cell_type": "code",
   "execution_count": null,
   "id": "8374523d",
   "metadata": {},
   "outputs": [],
   "source": []
  },
  {
   "cell_type": "code",
   "execution_count": null,
   "id": "7bd9be33",
   "metadata": {},
   "outputs": [],
   "source": [
    "model.summary()"
   ]
  },
  {
   "cell_type": "code",
   "execution_count": null,
   "id": "9cfdbf7d",
   "metadata": {},
   "outputs": [
    {
     "ename": "NameError",
     "evalue": "name 'r2_score' is not defined",
     "output_type": "error",
     "traceback": [
      "\u001b[1;31m---------------------------------------------------------------------------\u001b[0m",
      "\u001b[1;31mNameError\u001b[0m                                 Traceback (most recent call last)",
      "Cell \u001b[1;32mIn[14], line 1\u001b[0m\n\u001b[1;32m----> 1\u001b[0m train_r2 \u001b[38;5;241m=\u001b[39m \u001b[43mr2_score\u001b[49m(y_train, y_train_pred)\n\u001b[0;32m      2\u001b[0m test_r2 \u001b[38;5;241m=\u001b[39m r2_score(y_test, y_test_pred)\n\u001b[0;32m      3\u001b[0m test_mse \u001b[38;5;241m=\u001b[39m mean_squared_error(y_test, y_test_pred)\n",
      "\u001b[1;31mNameError\u001b[0m: name 'r2_score' is not defined"
     ]
    }
   ],
   "source": [
    "\n",
    "train_r2 = r2_score(y_train, y_train_pred)\n",
    "test_r2 = r2_score(y_test, y_test_pred)\n",
    "test_mse = mean_squared_error(y_test, y_test_pred)\n",
    "test_rmse = np.sqrt(test_mse)\n",
    "test_mae = mean_absolute_error(y_test, y_test_pred)\n",
    "\n",
    "print(f'Train R-squared: {train_r2 * 100:.2f}%')\n",
    "print(f'Test R-squared: {test_r2 * 100:.2f}%')\n",
    "print(f'Test Mean Squared Error (MSE): {test_mse:.2f}')\n",
    "print(f'Test Root Mean Squared Error (RMSE): {test_rmse:.2f}')\n",
    "print(f'Test Mean Absolute Error (MAE): {test_mae:.2f}')\n",
    "\n",
    "plt.figure(figsize=(10, 5))\n",
    "plt.plot(y_test, label='Actual', marker='o', linestyle='None')\n",
    "plt.plot(y_test_pred, label='Predicted', marker='x', linestyle='None')\n",
    "plt.legend()\n",
    "plt.xlabel('Sample index')\n",
    "plt.ylabel('Value')\n",
    "plt.title('Actual vs Predicted Values')\n",
    "plt.show()\n",
    "\n",
    "plt.figure(figsize=(10, 5))\n",
    "plt.plot(train_losses, label='Training Loss')\n",
    "plt.plot(val_losses, label='Validation Loss')\n",
    "plt.legend()\n",
    "plt.xlabel('Epoch')\n",
    "plt.ylabel('Loss')\n",
    "plt.title('Training and Validation Loss')\n",
    "plt.show()\n",
    "\n",
    "print(model.summary())\n",
    "print(model.get_config())\n",
    "print(optimizer.get_config())\n",
    "\n",
    "model.save(\"HousePrices/saved_models/nn_model_\" + exp_name + \".tf\",\n",
    "            save_format='tf')"
   ]
  }
 ],
 "metadata": {
  "kernelspec": {
   "display_name": "tf_env",
   "language": "python",
   "name": "python3"
  },
  "language_info": {
   "codemirror_mode": {
    "name": "ipython",
    "version": 3
   },
   "file_extension": ".py",
   "mimetype": "text/x-python",
   "name": "python",
   "nbconvert_exporter": "python",
   "pygments_lexer": "ipython3",
   "version": "3.9.21"
  }
 },
 "nbformat": 4,
 "nbformat_minor": 5
}
