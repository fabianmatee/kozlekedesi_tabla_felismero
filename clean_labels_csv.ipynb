{
 "cells": [
  {
   "cell_type": "code",
   "execution_count": 1,
   "id": "84bd7a3d",
   "metadata": {},
   "outputs": [],
   "source": [
    "import pandas as pd\n",
    "from pathlib import Path\n",
    "\n",
    "csv_path = Path(\"D:/Szakdolgozat/githubclone/kozlekedesi_tabla_felismero/MultiLabelFrames/labels.csv\")\n",
    "\n",
    "df = pd.read_csv(csv_path)\n",
    "\n",
    "label_columns = df.columns[df.columns != \"filename\"]\n",
    "used_labels = [col for col in label_columns if df[col].sum() > 0]\n",
    "\n",
    "labels_df = df[[\"filename\"] + used_labels]\n",
    "\n",
    "labels_df.to_csv(csv_path, index=False)\n",
    "\n"
   ]
  }
 ],
 "metadata": {
  "kernelspec": {
   "display_name": "tf_env",
   "language": "python",
   "name": "python3"
  },
  "language_info": {
   "codemirror_mode": {
    "name": "ipython",
    "version": 3
   },
   "file_extension": ".py",
   "mimetype": "text/x-python",
   "name": "python",
   "nbconvert_exporter": "python",
   "pygments_lexer": "ipython3",
   "version": "3.9.21"
  }
 },
 "nbformat": 4,
 "nbformat_minor": 5
}
