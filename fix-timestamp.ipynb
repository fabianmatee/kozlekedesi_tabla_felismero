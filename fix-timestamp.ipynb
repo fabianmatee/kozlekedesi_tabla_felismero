{
 "cells": [
  {
   "cell_type": "code",
   "execution_count": null,
   "id": "a53a2db9",
   "metadata": {},
   "outputs": [
    {
     "name": "stdout",
     "output_type": "stream",
     "text": [
      "✔️ Timestamp oszlopok javítva minden fájlban.\n"
     ]
    }
   ],
   "source": [
    "import os\n",
    "import pandas as pd\n",
    "import numpy as np\n",
    "\n",
    "# Frissítsd ezt a sort a saját elérési utaddal\n",
    "csv_dir = r\"D:\\Szakdolgozat\\kozlekedesi_tabla_felismero\\Annotations\"\n",
    "\n",
    "for csv_file in os.listdir(csv_dir):\n",
    "    if csv_file.endswith(\".csv\"):\n",
    "        path = os.path.join(csv_dir, csv_file)\n",
    "        df = pd.read_csv(path)\n",
    "\n",
    "        # 0.5 másodperces timestamp generálás\n",
    "        df[\"timestamp\"] = np.arange(0, len(df) * 0.5, 0.5)\n",
    "\n",
    "        df.to_csv(path, index=False)\n",
    "\n",
    "print(\"Timestamp oszlopok javítva minden fájlban.\")\n"
   ]
  }
 ],
 "metadata": {
  "kernelspec": {
   "display_name": "tf_env",
   "language": "python",
   "name": "python3"
  },
  "language_info": {
   "codemirror_mode": {
    "name": "ipython",
    "version": 3
   },
   "file_extension": ".py",
   "mimetype": "text/x-python",
   "name": "python",
   "nbconvert_exporter": "python",
   "pygments_lexer": "ipython3",
   "version": "3.9.21"
  }
 },
 "nbformat": 4,
 "nbformat_minor": 5
}
