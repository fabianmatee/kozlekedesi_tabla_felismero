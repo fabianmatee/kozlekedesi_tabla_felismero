{
 "cells": [
  {
   "cell_type": "code",
   "execution_count": 1,
   "id": "84bd7a3d",
   "metadata": {},
   "outputs": [
    {
     "name": "stdout",
     "output_type": "stream",
     "text": [
      "✅ Sikeresen megtisztítva! Megmaradt 49 tábla oszlop.\n"
     ]
    }
   ],
   "source": [
    "import pandas as pd\n",
    "from pathlib import Path\n",
    "\n",
    "# Fájl elérési útja\n",
    "csv_path = Path(\"D:/Szakdolgozat/githubclone/kozlekedesi_tabla_felismero/MultiLabelFrames/labels.csv\")\n",
    "\n",
    "# CSV fájl beolvasása\n",
    "df = pd.read_csv(csv_path)\n",
    "\n",
    "# Csak azokat az oszlopokat tartjuk meg, ahol van legalább egy nem nulla érték\n",
    "label_columns = df.columns[df.columns != \"filename\"]\n",
    "used_labels = [col for col in label_columns if df[col].sum() > 0]\n",
    "\n",
    "# Új DataFrame csak a hasznos oszlopokkal\n",
    "filtered_df = df[[\"filename\"] + used_labels]\n",
    "\n",
    "# Visszaírjuk a fájlt (felülírja az eredetit!)\n",
    "filtered_df.to_csv(csv_path, index=False)\n",
    "\n",
    "print(f\"✅ Sikeresen megtisztítva! Megmaradt {len(used_labels)} tábla oszlop.\")\n"
   ]
  }
 ],
 "metadata": {
  "kernelspec": {
   "display_name": "tf_env",
   "language": "python",
   "name": "python3"
  },
  "language_info": {
   "codemirror_mode": {
    "name": "ipython",
    "version": 3
   },
   "file_extension": ".py",
   "mimetype": "text/x-python",
   "name": "python",
   "nbconvert_exporter": "python",
   "pygments_lexer": "ipython3",
   "version": "3.9.21"
  }
 },
 "nbformat": 4,
 "nbformat_minor": 5
}
